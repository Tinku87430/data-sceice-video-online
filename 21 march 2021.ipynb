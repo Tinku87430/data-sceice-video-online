{
 "cells": [
  {
   "cell_type": "code",
   "execution_count": 7,
   "metadata": {},
   "outputs": [],
   "source": [
    "import pandas as pd\n",
    "import numpy as np\n"
   ]
  },
  {
   "cell_type": "markdown",
   "metadata": {},
   "source": [
    "# Pandas Series Manipulation"
   ]
  },
  {
   "cell_type": "code",
   "execution_count": 9,
   "metadata": {},
   "outputs": [
    {
     "name": "stdout",
     "output_type": "stream",
     "text": [
      "labels: ['a', 'b', 'c']\n",
      "my_data: [10, 20, 30]\n",
      "dictionary: {'a': 10, 'b': 20, 'c': 30}\n"
     ]
    }
   ],
   "source": [
    "label=['a','b','c']\n",
    "my_data=[10,20,30]\n",
    "arr=np.array(my_data)\n",
    "d={'a':10,'b':20,'c':30}\n",
    "print('labels:',label)\n",
    "print('my_data:',my_data)\n",
    "print('dictionary:',d)"
   ]
  },
  {
   "cell_type": "code",
   "execution_count": 10,
   "metadata": {},
   "outputs": [
    {
     "data": {
      "text/plain": [
       "a    10\n",
       "b    20\n",
       "c    30\n",
       "dtype: int64"
      ]
     },
     "execution_count": 10,
     "metadata": {},
     "output_type": "execute_result"
    }
   ],
   "source": [
    "pd.Series(data=my_data,index=label)"
   ]
  },
  {
   "cell_type": "code",
   "execution_count": 11,
   "metadata": {},
   "outputs": [
    {
     "name": "stdout",
     "output_type": "stream",
     "text": [
      "\n",
      "Holding numeric data\n",
      "------------------------------\n",
      "0    10\n",
      "1    20\n",
      "2    30\n",
      "dtype: int32\n"
     ]
    }
   ],
   "source": [
    "print(\"\\nHolding numeric data\\n\",'-'*30,sep='')\n",
    "print(pd.Series(arr))"
   ]
  },
  {
   "cell_type": "code",
   "execution_count": 12,
   "metadata": {},
   "outputs": [
    {
     "name": "stdout",
     "output_type": "stream",
     "text": [
      "\n",
      "Holding text lavels\n",
      "------------------------------\n",
      "0    a\n",
      "1    b\n",
      "2    c\n",
      "dtype: object\n"
     ]
    }
   ],
   "source": [
    "print('\\nHolding text lavels\\n','-'*30,sep='')\n",
    "print(pd.Series(label))"
   ]
  },
  {
   "cell_type": "code",
   "execution_count": 13,
   "metadata": {},
   "outputs": [],
   "source": [
    "ser1=pd.Series([1,2,3,4],['ca','or','co','az'])\n",
    "ser2=pd.Series([1,2,5,4],['ca','or','nv','az'])\n"
   ]
  },
  {
   "cell_type": "code",
   "execution_count": 14,
   "metadata": {},
   "outputs": [
    {
     "data": {
      "text/plain": [
       "ca    1\n",
       "or    2\n",
       "co    3\n",
       "az    4\n",
       "dtype: int64"
      ]
     },
     "execution_count": 14,
     "metadata": {},
     "output_type": "execute_result"
    }
   ],
   "source": [
    "ser1"
   ]
  },
  {
   "cell_type": "code",
   "execution_count": 15,
   "metadata": {},
   "outputs": [
    {
     "data": {
      "text/plain": [
       "ca    1\n",
       "or    2\n",
       "nv    5\n",
       "az    4\n",
       "dtype: int64"
      ]
     },
     "execution_count": 15,
     "metadata": {},
     "output_type": "execute_result"
    }
   ],
   "source": [
    "ser2"
   ]
  },
  {
   "cell_type": "code",
   "execution_count": 16,
   "metadata": {},
   "outputs": [
    {
     "name": "stdout",
     "output_type": "stream",
     "text": [
      "\n",
      "Indexing by name of the item/object (string identifier)\n",
      "--------------------------------------------------\n",
      "value for ca in ser1: 1\n",
      "value for az in ser1: 4\n",
      "value for az in ser1: 5\n"
     ]
    }
   ],
   "source": [
    "print('\\nIndexing by name of the item/object (string identifier)\\n','-'*50,sep='')\n",
    "print('value for ca in ser1:',ser1['ca'])\n",
    "print('value for az in ser1:',ser1['az'])\n",
    "print('value for az in ser1:',ser2['nv'])"
   ]
  },
  {
   "cell_type": "code",
   "execution_count": 17,
   "metadata": {},
   "outputs": [
    {
     "name": "stdout",
     "output_type": "stream",
     "text": [
      "\n",
      "indexing by number(position value in the series)\n",
      "--------------------------------------------------\n",
      "value for ca in ser1: 1\n",
      "value for az in ser1: 4\n",
      "value for az in ser1: 5\n"
     ]
    }
   ],
   "source": [
    "print('\\nindexing by number(position value in the series)\\n','-'*50,sep='')\n",
    "print('value for ca in ser1:',ser1[0])\n",
    "print('value for az in ser1:',ser1[3])\n",
    "print('value for az in ser1:',ser2[2])"
   ]
  },
  {
   "cell_type": "code",
   "execution_count": 19,
   "metadata": {},
   "outputs": [
    {
     "name": "stdout",
     "output_type": "stream",
     "text": [
      "\n",
      "indexing by a range\n",
      "--------------------------------------------------\n",
      "value for or,co and az in ser1:\n",
      "ca    1\n",
      "or    2\n",
      "co    3\n",
      "az    4\n",
      "dtype: int64\n"
     ]
    }
   ],
   "source": [
    "print('\\nindexing by a range\\n','-'*50,sep='')\n",
    "print('value for or,co and az in ser1:\\n',ser1[0:4],sep='')"
   ]
  },
  {
   "cell_type": "code",
   "execution_count": 20,
   "metadata": {},
   "outputs": [],
   "source": [
    "ser1=pd.Series([1,2,3,4],['ca','or','co','az'])\n",
    "ser2=pd.Series([1,2,5,4],['ca','or','nv','az'])\n"
   ]
  },
  {
   "cell_type": "code",
   "execution_count": 21,
   "metadata": {},
   "outputs": [],
   "source": [
    "ser3=ser1+ser2"
   ]
  },
  {
   "cell_type": "code",
   "execution_count": 22,
   "metadata": {},
   "outputs": [
    {
     "data": {
      "text/plain": [
       "az    8.0\n",
       "ca    2.0\n",
       "co    NaN\n",
       "nv    NaN\n",
       "or    4.0\n",
       "dtype: float64"
      ]
     },
     "execution_count": 22,
     "metadata": {},
     "output_type": "execute_result"
    }
   ],
   "source": [
    "ser3"
   ]
  },
  {
   "cell_type": "code",
   "execution_count": 23,
   "metadata": {},
   "outputs": [
    {
     "name": "stdout",
     "output_type": "stream",
     "text": [
      "\n",
      "after adding the two series the result looks like this---\n",
      "--------------------------------------------------\n",
      "az    8.0\n",
      "ca    2.0\n",
      "co    NaN\n",
      "nv    NaN\n",
      "or    4.0\n",
      "dtype: float64\n",
      "\n",
      "python trees to add value where it finds commons index name and put NaN where indices are missing \n",
      "\n"
     ]
    }
   ],
   "source": [
    "print('\\nafter adding the two series the result looks like this---\\n','-'*50,sep='')\n",
    "print(ser3)\n",
    "print('\\npython trees to add value where it finds commons index name and put NaN where indices are missing \\n')"
   ]
  },
  {
   "cell_type": "code",
   "execution_count": 24,
   "metadata": {},
   "outputs": [
    {
     "name": "stdout",
     "output_type": "stream",
     "text": [
      "\n",
      "The idea works even for multiplication___\n",
      "--------------------------------------------------\n",
      "az    16.0\n",
      "ca     1.0\n",
      "co     NaN\n",
      "nv     NaN\n",
      "or     4.0\n",
      "dtype: float64\n"
     ]
    }
   ],
   "source": [
    "print('\\nThe idea works even for multiplication___\\n','-'*50,sep='')\n",
    "print(ser1*ser2)"
   ]
  },
  {
   "cell_type": "code",
   "execution_count": 25,
   "metadata": {},
   "outputs": [
    {
     "name": "stdout",
     "output_type": "stream",
     "text": [
      "\n",
      "Or even for combination of mathematical operation\n",
      "--------------------------------------------------\n",
      "az    55.200210\n",
      "ca     2.718282\n",
      "co          NaN\n",
      "nv          NaN\n",
      "or     7.690086\n",
      "dtype: float64\n"
     ]
    }
   ],
   "source": [
    "print('\\nOr even for combination of mathematical operation\\n','-'*50,sep='')\n",
    "print(np.exp(ser1)+np.log10(ser2))"
   ]
  },
  {
   "cell_type": "code",
   "execution_count": 26,
   "metadata": {},
   "outputs": [],
   "source": [
    "from numpy.random import randn as rn"
   ]
  },
  {
   "cell_type": "code",
   "execution_count": 42,
   "metadata": {},
   "outputs": [
    {
     "name": "stdout",
     "output_type": "stream",
     "text": [
      "\n",
      "The dataframe looks like \n",
      "----------------------------------------\n",
      "          w         x         y         z\n",
      "a  2.706850  0.628133  0.907969  0.503826\n",
      "b  0.651118 -0.319318 -0.848077  0.605965\n",
      "c -2.018168  0.740122  0.528813 -0.589001\n",
      "d  0.188695 -0.758872 -0.933237  0.955057\n",
      "e  0.190794  1.978757  2.605967  0.683509\n"
     ]
    }
   ],
   "source": [
    "np.random.seed(101)\n",
    "matrix_data=rn(5,4)\n",
    "row_labels=['a','b','c','d','e']\n",
    "column_headings=['w','x','y','z']\n",
    "df=pd.DataFrame(data=matrix_data,index=row_labels,columns=column_headings)\n",
    "print('\\nThe dataframe looks like \\n','-'*40,sep='')\n",
    "print(df)"
   ]
  },
  {
   "cell_type": "code",
   "execution_count": 43,
   "metadata": {},
   "outputs": [
    {
     "name": "stdout",
     "output_type": "stream",
     "text": [
      "\n",
      "The X column \n",
      "-----------------------------------\n",
      "a    0.628133\n",
      "b   -0.319318\n",
      "c    0.740122\n",
      "d   -0.758872\n",
      "e    1.978757\n",
      "Name: x, dtype: float64\n"
     ]
    }
   ],
   "source": [
    "print('\\nThe X column \\n','-'*35,sep='')\n",
    "print(df['x'])"
   ]
  },
  {
   "cell_type": "code",
   "execution_count": 50,
   "metadata": {},
   "outputs": [
    {
     "name": "stdout",
     "output_type": "stream",
     "text": [
      "\n",
      "The dataframe looks like \n",
      "----------------------------------------\n",
      "          w         x         y         z\n",
      "a  2.706850  0.628133  0.907969  0.503826\n",
      "b  0.651118 -0.319318 -0.848077  0.605965\n",
      "c -2.018168  0.740122  0.528813 -0.589001\n",
      "d  0.188695 -0.758872 -0.933237  0.955057\n",
      "e  0.190794  1.978757  2.605967  0.683509\n"
     ]
    }
   ],
   "source": [
    "np.random.seed(101)\n",
    "matrix_data=rn(5,4)\n",
    "row_labels=['a','b','c','d','e']\n",
    "column_headings=['w','x','y','z']\n",
    "df=pd.DataFrame(data=matrix_data,index=row_labels,columns=column_headings)\n",
    "print('\\nThe dataframe looks like \\n','-'*40,sep='')\n",
    "print(df)"
   ]
  },
  {
   "cell_type": "code",
   "execution_count": 51,
   "metadata": {},
   "outputs": [
    {
     "name": "stdout",
     "output_type": "stream",
     "text": [
      "\n",
      "type of column:<class 'pandas.core.series.Series'>\n"
     ]
    }
   ],
   "source": [
    "print('\\ntype of column:',type(df[\"x\"]),sep='')\n"
   ]
  },
  {
   "cell_type": "code",
   "execution_count": 54,
   "metadata": {},
   "outputs": [
    {
     "name": "stdout",
     "output_type": "stream",
     "text": [
      "\n",
      "The 'x' and 'z' columns indexed by passing a list\n",
      "-------------------------------------------------------\n",
      "          x         z\n",
      "a  0.628133  0.503826\n",
      "b -0.319318  0.605965\n",
      "c  0.740122 -0.589001\n",
      "d -0.758872  0.955057\n",
      "e  1.978757  0.683509\n"
     ]
    }
   ],
   "source": [
    "print(\"\\nThe 'x' and 'z' columns indexed by passing a list\\n\",'-'*55,sep='')\n",
    "print(df[['x','z']])"
   ]
  },
  {
   "cell_type": "code",
   "execution_count": 55,
   "metadata": {},
   "outputs": [
    {
     "name": "stdout",
     "output_type": "stream",
     "text": [
      "\n",
      "type of the pair of column:<class 'pandas.core.frame.DataFrame'>\n",
      "\n",
      "So for more than one column the object turns into a DataFrame\n"
     ]
    }
   ],
   "source": [
    "print('\\ntype of the pair of column:',type(df[['x','z']]),sep='')\n",
    "print('\\nSo for more than one column the object turns into a DataFrame')"
   ]
  },
  {
   "cell_type": "code",
   "execution_count": 56,
   "metadata": {},
   "outputs": [
    {
     "name": "stdout",
     "output_type": "stream",
     "text": [
      "\n",
      " The \"x\"column accessed by Dot method(not recommended)\n",
      "-------------------------------------------------------\n"
     ]
    }
   ],
   "source": [
    "print('\\n The \"x\"column accessed by Dot method(not recommended)\\n','-'*55,sep='')"
   ]
  },
  {
   "cell_type": "markdown",
   "metadata": {},
   "source": [
    "# Pandas DataFrame Manipulation"
   ]
  },
  {
   "cell_type": "code",
   "execution_count": 57,
   "metadata": {},
   "outputs": [],
   "source": [
    "import pandas as pd\n",
    "import numpy as np\n"
   ]
  },
  {
   "cell_type": "code",
   "execution_count": 60,
   "metadata": {},
   "outputs": [
    {
     "name": "stdout",
     "output_type": "stream",
     "text": [
      "\n",
      " The DataFrame\n",
      "------------------------------\n",
      "          w         x         y         z\n",
      "a  2.706850  0.628133  0.907969  0.503826\n",
      "b  0.651118 -0.319318 -0.848077  0.605965\n",
      "c -2.018168  0.740122  0.528813 -0.589001\n",
      "d  0.188695 -0.758872 -0.933237  0.955057\n",
      "e  0.190794  1.978757  2.605967  0.683509\n"
     ]
    }
   ],
   "source": [
    "np.random.seed(101)\n",
    "matrix_data=np.random.randn(5,4)\n",
    "row_labels=['a','b','c','d','e']\n",
    "column_headings=['w','x','y','z']\n",
    "df=pd.DataFrame(data=matrix_data,index=row_labels,columns=column_headings)\n",
    "\n",
    "print('\\n The DataFrame\\n','-'*30,sep='')\n",
    "print(df)"
   ]
  },
  {
   "cell_type": "code",
   "execution_count": 61,
   "metadata": {},
   "outputs": [
    {
     "name": "stdout",
     "output_type": "stream",
     "text": [
      "\n",
      "Element at row 'b'and column 'y' is\n",
      "\n",
      "-0.8480769834036315\n"
     ]
    }
   ],
   "source": [
    "print(\"\\nElement at row 'b'and column 'y' is\\n\")\n",
    "print(df.loc['b','y'])"
   ]
  },
  {
   "cell_type": "code",
   "execution_count": 64,
   "metadata": {},
   "outputs": [
    {
     "name": "stdout",
     "output_type": "stream",
     "text": [
      "\n",
      " subset comprising of rows b and d,and columns w and y,is \n",
      "\n"
     ]
    },
    {
     "data": {
      "text/html": [
       "<div>\n",
       "<style scoped>\n",
       "    .dataframe tbody tr th:only-of-type {\n",
       "        vertical-align: middle;\n",
       "    }\n",
       "\n",
       "    .dataframe tbody tr th {\n",
       "        vertical-align: top;\n",
       "    }\n",
       "\n",
       "    .dataframe thead th {\n",
       "        text-align: right;\n",
       "    }\n",
       "</style>\n",
       "<table border=\"1\" class=\"dataframe\">\n",
       "  <thead>\n",
       "    <tr style=\"text-align: right;\">\n",
       "      <th></th>\n",
       "      <th>w</th>\n",
       "      <th>y</th>\n",
       "    </tr>\n",
       "  </thead>\n",
       "  <tbody>\n",
       "    <tr>\n",
       "      <th>b</th>\n",
       "      <td>0.651118</td>\n",
       "      <td>-0.848077</td>\n",
       "    </tr>\n",
       "    <tr>\n",
       "      <th>d</th>\n",
       "      <td>0.188695</td>\n",
       "      <td>-0.933237</td>\n",
       "    </tr>\n",
       "  </tbody>\n",
       "</table>\n",
       "</div>"
      ],
      "text/plain": [
       "          w         y\n",
       "b  0.651118 -0.848077\n",
       "d  0.188695 -0.933237"
      ]
     },
     "execution_count": 64,
     "metadata": {},
     "output_type": "execute_result"
    }
   ],
   "source": [
    "print('\\n subset comprising of rows b and d,and columns w and y,is \\n')\n",
    "df.loc[['b','d'],['w','y']]"
   ]
  },
  {
   "cell_type": "code",
   "execution_count": 65,
   "metadata": {},
   "outputs": [
    {
     "name": "stdout",
     "output_type": "stream",
     "text": [
      "\n",
      "The DataFrame\n",
      "---------------------------------------------\n",
      "          w         x         y         z\n",
      "a  2.706850  0.628133  0.907969  0.503826\n",
      "b  0.651118 -0.319318 -0.848077  0.605965\n",
      "c -2.018168  0.740122  0.528813 -0.589001\n",
      "d  0.188695 -0.758872 -0.933237  0.955057\n",
      "e  0.190794  1.978757  2.605967  0.683509\n"
     ]
    }
   ],
   "source": [
    "print('\\nThe DataFrame\\n','-'*45,sep='')\n",
    "print(df)"
   ]
  },
  {
   "cell_type": "code",
   "execution_count": 66,
   "metadata": {},
   "outputs": [
    {
     "name": "stdout",
     "output_type": "stream",
     "text": [
      "\n",
      "Boolean DataFrame (s)where we are checking if the values are greater than 0 \n",
      "----------------------------------------------------------------------\n",
      "       w      x      y      z\n",
      "a   True   True   True   True\n",
      "b   True  False  False   True\n",
      "c  False   True   True  False\n",
      "d   True  False  False   True\n",
      "e   True   True   True   True\n"
     ]
    }
   ],
   "source": [
    "print('\\nBoolean DataFrame (s)where we are checking if the values are greater than 0 \\n','-'*70,sep='')\n",
    "print(df>0)"
   ]
  },
  {
   "cell_type": "code",
   "execution_count": 68,
   "metadata": {},
   "outputs": [
    {
     "name": "stdout",
     "output_type": "stream",
     "text": [
      "\n",
      "\n",
      "       w      x      y      z\n",
      "a   True   True   True   True\n",
      "b   True  False  False   True\n",
      "c  False   True   True  False\n"
     ]
    }
   ],
   "source": [
    "print('\\n')\n",
    "print(df.loc[['a','b','c',]]>0)"
   ]
  },
  {
   "cell_type": "code",
   "execution_count": 70,
   "metadata": {},
   "outputs": [
    {
     "name": "stdout",
     "output_type": "stream",
     "text": [
      "\n",
      "DataFrame indexed by boolean DataFrame\n",
      "----------------------------------------\n",
      "          w         x         y         z\n",
      "a  2.706850  0.628133  0.907969  0.503826\n",
      "b  0.651118       NaN       NaN  0.605965\n",
      "c       NaN  0.740122  0.528813       NaN\n",
      "d  0.188695       NaN       NaN  0.955057\n",
      "e  0.190794  1.978757  2.605967  0.683509\n"
     ]
    }
   ],
   "source": [
    "booldf=df>0\n",
    "print('\\nDataFrame indexed by boolean DataFrame\\n','-'*40,sep='')\n",
    "print(df[booldf])"
   ]
  },
  {
   "cell_type": "code",
   "execution_count": 72,
   "metadata": {},
   "outputs": [
    {
     "name": "stdout",
     "output_type": "stream",
     "text": [
      "\n",
      " A new DataFrame\n",
      "-----------------------------------\n",
      "   age  height  weight\n",
      "a   22      66     140\n",
      "b   42      70     148\n",
      "c   30      62     125\n",
      "d   35      68     160\n",
      "e   25      62     152\n"
     ]
    }
   ],
   "source": [
    "matrix_data=np.matrix('22,66,140;42,70,148;30,62,125;35,68,160;25,62,152')\n",
    "row_labels=['a','b','c','d','e']\n",
    "column_headings=['age','height','weight']\n",
    "df=pd.DataFrame(data=matrix_data,index=row_labels,columns=column_headings)\n",
    "print('\\n A new DataFrame\\n','-'*35,sep='')\n",
    "print(df)"
   ]
  },
  {
   "cell_type": "code",
   "execution_count": 73,
   "metadata": {},
   "outputs": [
    {
     "name": "stdout",
     "output_type": "stream",
     "text": [
      "\n",
      "ROws with height>65 inch\n",
      "------------------------------\n",
      "   age  height  weight\n",
      "a   22      66     140\n",
      "b   42      70     148\n",
      "d   35      68     160\n"
     ]
    }
   ],
   "source": [
    "print('\\nROws with height>65 inch\\n','-'*30,sep='')\n",
    "print(df[df['height']>65])"
   ]
  },
  {
   "cell_type": "code",
   "execution_count": 75,
   "metadata": {},
   "outputs": [
    {
     "name": "stdout",
     "output_type": "stream",
     "text": [
      "\n",
      "rows with height>65 inch and weight>145 lbs\n",
      "------------------------------------------------------------\n",
      "   age  height  weight\n",
      "b   42      70     148\n",
      "d   35      68     160\n"
     ]
    }
   ],
   "source": [
    "booldf1=df['height']>65\n",
    "booldf2=df['weight']>145\n",
    "print('\\nrows with height>65 inch and weight>145 lbs\\n','-'*60,sep='')\n",
    "print(df[(booldf1)&(booldf2)])"
   ]
  },
  {
   "cell_type": "code",
   "execution_count": 76,
   "metadata": {},
   "outputs": [
    {
     "name": "stdout",
     "output_type": "stream",
     "text": [
      "\n",
      "DataFrame with only age and weight columns where height>65 inch\n",
      "-------------------------------------------------------\n",
      "   age  weight\n",
      "a   22     140\n",
      "b   42     148\n",
      "d   35     160\n"
     ]
    }
   ],
   "source": [
    "print('\\nDataFrame with only age and weight columns where height>65 inch\\n','-'*55,sep='')\n",
    "print(df[booldf1][['age','weight']])"
   ]
  },
  {
   "cell_type": "code",
   "execution_count": 77,
   "metadata": {},
   "outputs": [
    {
     "data": {
      "text/html": [
       "<div>\n",
       "<style scoped>\n",
       "    .dataframe tbody tr th:only-of-type {\n",
       "        vertical-align: middle;\n",
       "    }\n",
       "\n",
       "    .dataframe tbody tr th {\n",
       "        vertical-align: top;\n",
       "    }\n",
       "\n",
       "    .dataframe thead th {\n",
       "        text-align: right;\n",
       "    }\n",
       "</style>\n",
       "<table border=\"1\" class=\"dataframe\">\n",
       "  <thead>\n",
       "    <tr style=\"text-align: right;\">\n",
       "      <th></th>\n",
       "      <th>age</th>\n",
       "      <th>height</th>\n",
       "      <th>weight</th>\n",
       "    </tr>\n",
       "  </thead>\n",
       "  <tbody>\n",
       "    <tr>\n",
       "      <th>a</th>\n",
       "      <td>22</td>\n",
       "      <td>66</td>\n",
       "      <td>140</td>\n",
       "    </tr>\n",
       "    <tr>\n",
       "      <th>b</th>\n",
       "      <td>42</td>\n",
       "      <td>70</td>\n",
       "      <td>148</td>\n",
       "    </tr>\n",
       "    <tr>\n",
       "      <th>c</th>\n",
       "      <td>30</td>\n",
       "      <td>62</td>\n",
       "      <td>125</td>\n",
       "    </tr>\n",
       "    <tr>\n",
       "      <th>d</th>\n",
       "      <td>35</td>\n",
       "      <td>68</td>\n",
       "      <td>160</td>\n",
       "    </tr>\n",
       "    <tr>\n",
       "      <th>e</th>\n",
       "      <td>25</td>\n",
       "      <td>62</td>\n",
       "      <td>152</td>\n",
       "    </tr>\n",
       "  </tbody>\n",
       "</table>\n",
       "</div>"
      ],
      "text/plain": [
       "   age  height  weight\n",
       "a   22      66     140\n",
       "b   42      70     148\n",
       "c   30      62     125\n",
       "d   35      68     160\n",
       "e   25      62     152"
      ]
     },
     "execution_count": 77,
     "metadata": {},
     "output_type": "execute_result"
    }
   ],
   "source": [
    "df"
   ]
  },
  {
   "cell_type": "code",
   "execution_count": 78,
   "metadata": {},
   "outputs": [
    {
     "name": "stdout",
     "output_type": "stream",
     "text": [
      "\n",
      " After Resetting index \n",
      "------------------------------\n",
      "  index  age  height  weight\n",
      "0     a   22      66     140\n",
      "1     b   42      70     148\n",
      "2     c   30      62     125\n",
      "3     d   35      68     160\n",
      "4     e   25      62     152\n"
     ]
    }
   ],
   "source": [
    "print('\\n After Resetting index \\n','-'*30,sep='')\n",
    "print(df.reset_index())"
   ]
  },
  {
   "cell_type": "code",
   "execution_count": 80,
   "metadata": {},
   "outputs": [
    {
     "name": "stdout",
     "output_type": "stream",
     "text": [
      "\n",
      "After resetting index with \"drop\" option True\n",
      "----------------------------------------\n",
      "   age  height  weight\n",
      "0   22      66     140\n",
      "1   42      70     148\n",
      "2   30      62     125\n",
      "3   35      68     160\n",
      "4   25      62     152\n"
     ]
    }
   ],
   "source": [
    "print('\\nAfter resetting index with \"drop\" option True\\n','-'*40,sep='')\n",
    "print(df.reset_index(drop=True))"
   ]
  },
  {
   "cell_type": "code",
   "execution_count": 81,
   "metadata": {},
   "outputs": [
    {
     "name": "stdout",
     "output_type": "stream",
     "text": [
      "\n",
      "Adding a new column \"profession\"\n",
      "----------------------------------------\n",
      "   age  height  weight profession\n",
      "a   22      66     140    student\n",
      "b   42      70     148    teacher\n",
      "c   30      62     125   engineer\n",
      "d   35      68     160     doctor\n",
      "e   25      62     152      nurse\n"
     ]
    }
   ],
   "source": [
    "print('\\nAdding a new column \"profession\"\\n','-'*40,sep='')\n",
    "df['profession']=\"student teacher engineer doctor nurse\".split()\n",
    "print(df)"
   ]
  },
  {
   "cell_type": "code",
   "execution_count": 82,
   "metadata": {},
   "outputs": [
    {
     "name": "stdout",
     "output_type": "stream",
     "text": [
      "\n",
      "Setting \"profession\" column as index\n",
      "----------------------------------------\n",
      "            age  height  weight\n",
      "profession                     \n",
      "student      22      66     140\n",
      "teacher      42      70     148\n",
      "engineer     30      62     125\n",
      "doctor       35      68     160\n",
      "nurse        25      62     152\n"
     ]
    }
   ],
   "source": [
    "print('\\nSetting \"profession\" column as index\\n','-'*40,sep='')\n",
    "print(df.set_index('profession'))"
   ]
  },
  {
   "cell_type": "markdown",
   "metadata": {},
   "source": [
    "# Matplotlib_bar_histogram"
   ]
  },
  {
   "cell_type": "code",
   "execution_count": 119,
   "metadata": {},
   "outputs": [
    {
     "name": "stderr",
     "output_type": "stream",
     "text": [
      "UsageError: Line magic function `%` not found.\n"
     ]
    }
   ],
   "source": [
    "import pandas as pd\n",
    "import numpy as np\n",
    "import seaborn as sns\n",
    "import matplotlib.pyplot as plt\n",
    "% matplotlib.inline\n",
    "\n",
    "\n",
    "import warnings\n",
    "warnings.filterwarnings('ignore')"
   ]
  },
  {
   "cell_type": "code",
   "execution_count": 120,
   "metadata": {},
   "outputs": [],
   "source": [
    "from numpy.random import randn"
   ]
  },
  {
   "cell_type": "code",
   "execution_count": 121,
   "metadata": {},
   "outputs": [
    {
     "data": {
      "text/html": [
       "<div>\n",
       "<style scoped>\n",
       "    .dataframe tbody tr th:only-of-type {\n",
       "        vertical-align: middle;\n",
       "    }\n",
       "\n",
       "    .dataframe tbody tr th {\n",
       "        vertical-align: top;\n",
       "    }\n",
       "\n",
       "    .dataframe thead th {\n",
       "        text-align: right;\n",
       "    }\n",
       "</style>\n",
       "<table border=\"1\" class=\"dataframe\">\n",
       "  <thead>\n",
       "    <tr style=\"text-align: right;\">\n",
       "      <th></th>\n",
       "      <th>a</th>\n",
       "      <th>b</th>\n",
       "      <th>c</th>\n",
       "      <th>d</th>\n",
       "    </tr>\n",
       "  </thead>\n",
       "  <tbody>\n",
       "    <tr>\n",
       "      <th>0</th>\n",
       "      <td>0.386030</td>\n",
       "      <td>2.084019</td>\n",
       "      <td>-0.376519</td>\n",
       "      <td>0.230336</td>\n",
       "    </tr>\n",
       "    <tr>\n",
       "      <th>1</th>\n",
       "      <td>0.681209</td>\n",
       "      <td>1.035125</td>\n",
       "      <td>-0.031160</td>\n",
       "      <td>1.939932</td>\n",
       "    </tr>\n",
       "    <tr>\n",
       "      <th>2</th>\n",
       "      <td>-1.005187</td>\n",
       "      <td>-0.741790</td>\n",
       "      <td>0.187125</td>\n",
       "      <td>-0.732845</td>\n",
       "    </tr>\n",
       "    <tr>\n",
       "      <th>3</th>\n",
       "      <td>-1.382920</td>\n",
       "      <td>1.482495</td>\n",
       "      <td>0.961458</td>\n",
       "      <td>-2.141212</td>\n",
       "    </tr>\n",
       "    <tr>\n",
       "      <th>4</th>\n",
       "      <td>0.992573</td>\n",
       "      <td>1.192241</td>\n",
       "      <td>-1.046780</td>\n",
       "      <td>1.292765</td>\n",
       "    </tr>\n",
       "    <tr>\n",
       "      <th>5</th>\n",
       "      <td>-1.467514</td>\n",
       "      <td>-0.494095</td>\n",
       "      <td>-0.162535</td>\n",
       "      <td>0.485809</td>\n",
       "    </tr>\n",
       "    <tr>\n",
       "      <th>6</th>\n",
       "      <td>0.392489</td>\n",
       "      <td>0.221491</td>\n",
       "      <td>-0.855196</td>\n",
       "      <td>1.541990</td>\n",
       "    </tr>\n",
       "    <tr>\n",
       "      <th>7</th>\n",
       "      <td>0.666319</td>\n",
       "      <td>-0.538235</td>\n",
       "      <td>-0.568581</td>\n",
       "      <td>1.407338</td>\n",
       "    </tr>\n",
       "    <tr>\n",
       "      <th>8</th>\n",
       "      <td>0.641806</td>\n",
       "      <td>-0.905100</td>\n",
       "      <td>-0.391157</td>\n",
       "      <td>1.028293</td>\n",
       "    </tr>\n",
       "    <tr>\n",
       "      <th>9</th>\n",
       "      <td>-1.972605</td>\n",
       "      <td>-0.866885</td>\n",
       "      <td>0.720788</td>\n",
       "      <td>-1.223082</td>\n",
       "    </tr>\n",
       "  </tbody>\n",
       "</table>\n",
       "</div>"
      ],
      "text/plain": [
       "          a         b         c         d\n",
       "0  0.386030  2.084019 -0.376519  0.230336\n",
       "1  0.681209  1.035125 -0.031160  1.939932\n",
       "2 -1.005187 -0.741790  0.187125 -0.732845\n",
       "3 -1.382920  1.482495  0.961458 -2.141212\n",
       "4  0.992573  1.192241 -1.046780  1.292765\n",
       "5 -1.467514 -0.494095 -0.162535  0.485809\n",
       "6  0.392489  0.221491 -0.855196  1.541990\n",
       "7  0.666319 -0.538235 -0.568581  1.407338\n",
       "8  0.641806 -0.905100 -0.391157  1.028293\n",
       "9 -1.972605 -0.866885  0.720788 -1.223082"
      ]
     },
     "execution_count": 121,
     "metadata": {},
     "output_type": "execute_result"
    }
   ],
   "source": [
    "df=pd.DataFrame(randn (10, 4),columns=['a','b','c','d'])\n",
    "df.head(10)"
   ]
  },
  {
   "cell_type": "code",
   "execution_count": 122,
   "metadata": {},
   "outputs": [
    {
     "data": {
      "text/plain": [
       "<AxesSubplot:>"
      ]
     },
     "execution_count": 122,
     "metadata": {},
     "output_type": "execute_result"
    },
    {
     "data": {
      "image/png": "[encoded data removed]",
      "text/plain": [
       "<Figure size 432x288 with 1 Axes>"
      ]
     },
     "metadata": {
      "needs_background": "light"
     },
     "output_type": "display_data"
    }
   ],
   "source": [
    "df.plot.bar()"
   ]
  },
  {
   "cell_type": "code",
   "execution_count": 123,
   "metadata": {},
   "outputs": [
    {
     "data": {
      "text/plain": [
       "<AxesSubplot:>"
      ]
     },
     "execution_count": 123,
     "metadata": {},
     "output_type": "execute_result"
    },
    {
     "data": {
      "image/png": "[encoded data removed]",
      "text/plain": [
       "<Figure size 432x288 with 1 Axes>"
      ]
     },
     "metadata": {
      "needs_background": "light"
     },
     "output_type": "display_data"
    }
   ],
   "source": [
    "df.plot(kind='bar')"
   ]
  },
  {
   "cell_type": "code",
   "execution_count": 124,
   "metadata": {},
   "outputs": [
    {
     "data": {
      "text/plain": [
       "<AxesSubplot:>"
      ]
     },
     "execution_count": 124,
     "metadata": {},
     "output_type": "execute_result"
    },
    {
     "data": {
      "image/png": "[encoded data removed]",
      "text/plain": [
       "<Figure size 432x288 with 1 Axes>"
      ]
     },
     "metadata": {
      "needs_background": "light"
     },
     "output_type": "display_data"
    }
   ],
   "source": [
    "df.plot.barh()"
   ]
  },
  {
   "cell_type": "code",
   "execution_count": 125,
   "metadata": {},
   "outputs": [
    {
     "data": {
      "text/html": [
       "<div>\n",
       "<style scoped>\n",
       "    .dataframe tbody tr th:only-of-type {\n",
       "        vertical-align: middle;\n",
       "    }\n",
       "\n",
       "    .dataframe tbody tr th {\n",
       "        vertical-align: top;\n",
       "    }\n",
       "\n",
       "    .dataframe thead th {\n",
       "        text-align: right;\n",
       "    }\n",
       "</style>\n",
       "<table border=\"1\" class=\"dataframe\">\n",
       "  <thead>\n",
       "    <tr style=\"text-align: right;\">\n",
       "      <th></th>\n",
       "      <th>sepal_length</th>\n",
       "      <th>sepal_width</th>\n",
       "      <th>petal_length</th>\n",
       "      <th>petal_width</th>\n",
       "      <th>species</th>\n",
       "    </tr>\n",
       "  </thead>\n",
       "  <tbody>\n",
       "    <tr>\n",
       "      <th>0</th>\n",
       "      <td>5.1</td>\n",
       "      <td>3.5</td>\n",
       "      <td>1.4</td>\n",
       "      <td>0.2</td>\n",
       "      <td>setosa</td>\n",
       "    </tr>\n",
       "    <tr>\n",
       "      <th>1</th>\n",
       "      <td>4.9</td>\n",
       "      <td>3.0</td>\n",
       "      <td>1.4</td>\n",
       "      <td>0.2</td>\n",
       "      <td>setosa</td>\n",
       "    </tr>\n",
       "    <tr>\n",
       "      <th>2</th>\n",
       "      <td>4.7</td>\n",
       "      <td>3.2</td>\n",
       "      <td>1.3</td>\n",
       "      <td>0.2</td>\n",
       "      <td>setosa</td>\n",
       "    </tr>\n",
       "    <tr>\n",
       "      <th>3</th>\n",
       "      <td>4.6</td>\n",
       "      <td>3.1</td>\n",
       "      <td>1.5</td>\n",
       "      <td>0.2</td>\n",
       "      <td>setosa</td>\n",
       "    </tr>\n",
       "    <tr>\n",
       "      <th>4</th>\n",
       "      <td>5.0</td>\n",
       "      <td>3.6</td>\n",
       "      <td>1.4</td>\n",
       "      <td>0.2</td>\n",
       "      <td>setosa</td>\n",
       "    </tr>\n",
       "  </tbody>\n",
       "</table>\n",
       "</div>"
      ],
      "text/plain": [
       "   sepal_length  sepal_width  petal_length  petal_width species\n",
       "0           5.1          3.5           1.4          0.2  setosa\n",
       "1           4.9          3.0           1.4          0.2  setosa\n",
       "2           4.7          3.2           1.3          0.2  setosa\n",
       "3           4.6          3.1           1.5          0.2  setosa\n",
       "4           5.0          3.6           1.4          0.2  setosa"
      ]
     },
     "execution_count": 125,
     "metadata": {},
     "output_type": "execute_result"
    }
   ],
   "source": [
    "iris=sns.load_dataset('iris')\n",
    "iris.head()"
   ]
  },
  {
   "cell_type": "code",
   "execution_count": null,
   "metadata": {},
   "outputs": [],
   "source": []
  }
 ],
 "metadata": {
  "kernelspec": {
   "display_name": "Python 3",
   "language": "python",
   "name": "python3"
  },
  "language_info": {
   "codemirror_mode": {
    "name": "ipython",
    "version": 3
   },
   "file_extension": ".py",
   "mimetype": "text/x-python",
   "name": "python",
   "nbconvert_exporter": "python",
   "pygments_lexer": "ipython3",
   "version": "3.8.5"
  }
 },
 "nbformat": 4,
 "nbformat_minor": 4
}

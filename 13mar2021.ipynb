{
 "cells": [
  {
   "cell_type": "markdown",
   "metadata": {},
   "source": [
    "# Subsetting"
   ]
  },
  {
   "cell_type": "code",
   "execution_count": 3,
   "metadata": {},
   "outputs": [],
   "source": [
    "import numpy as np\n",
    "import pandas as pd"
   ]
  },
  {
   "cell_type": "code",
   "execution_count": 4,
   "metadata": {},
   "outputs": [],
   "source": [
    "from numpy.random import randint as ri"
   ]
  },
  {
   "cell_type": "code",
   "execution_count": 88,
   "metadata": {},
   "outputs": [
    {
     "name": "stdout",
     "output_type": "stream",
     "text": [
      "matrix of random 2 digit number\n",
      "----------------------------------\n",
      " [[96 59 29 11 85]\n",
      " [93 42 68 98 12]\n",
      " [49 60 67 41 68]]\n"
     ]
    }
   ],
   "source": [
    "mat=np.array(ri(10,100,15)).reshape(3,5)\n",
    "print(\"matrix of random 2 digit number\\n----------------------------------\\n\",mat)"
   ]
  },
  {
   "cell_type": "code",
   "execution_count": 89,
   "metadata": {},
   "outputs": [
    {
     "name": "stdout",
     "output_type": "stream",
     "text": [
      "Element greater than 50\n",
      " [96 59 85 93 68 98 60 67 68]\n"
     ]
    }
   ],
   "source": [
    "print(\"Element greater than 50\\n\",mat[mat>50])"
   ]
  },
  {
   "cell_type": "code",
   "execution_count": 90,
   "metadata": {},
   "outputs": [
    {
     "data": {
      "text/plain": [
       "array([[ True,  True, False, False,  True],\n",
       "       [ True, False,  True,  True, False],\n",
       "       [False,  True,  True, False,  True]])"
      ]
     },
     "execution_count": 90,
     "metadata": {},
     "output_type": "execute_result"
    }
   ],
   "source": [
    "mat>50"
   ]
  },
  {
   "cell_type": "markdown",
   "metadata": {},
   "source": [
    "# Slicing"
   ]
  },
  {
   "cell_type": "code",
   "execution_count": 91,
   "metadata": {},
   "outputs": [
    {
     "name": "stdout",
     "output_type": "stream",
     "text": [
      "original matrix\n",
      "-----------------------------------\n",
      "[[11 12 13]\n",
      " [21 22 23]\n",
      " [31 32 33]]\n"
     ]
    }
   ],
   "source": [
    "mat=np.array([[11,12,13],[21,22,23],[31,32,33]])\n",
    "print(\"original matrix\\n-----------------------------------\")\n",
    "print(mat)"
   ]
  },
  {
   "cell_type": "code",
   "execution_count": 92,
   "metadata": {},
   "outputs": [
    {
     "name": "stdout",
     "output_type": "stream",
     "text": [
      "\n",
      "sliced matrix\n",
      "[[11 12]\n",
      " [21 22]]\n",
      "\n",
      "change the slice matrix\n"
     ]
    }
   ],
   "source": [
    "mat_slice=mat[:2,:2]\n",
    "print(\"\\nsliced matrix\")\n",
    "print(mat_slice)\n",
    "print(\"\\nchange the slice matrix\")"
   ]
  },
  {
   "cell_type": "code",
   "execution_count": 93,
   "metadata": {},
   "outputs": [
    {
     "name": "stdout",
     "output_type": "stream",
     "text": [
      "[[1000   12]\n",
      " [  21   22]]\n"
     ]
    }
   ],
   "source": [
    "mat_slice[0,0]=1000\n",
    "print(mat_slice)\n"
   ]
  },
  {
   "cell_type": "code",
   "execution_count": 94,
   "metadata": {},
   "outputs": [
    {
     "name": "stdout",
     "output_type": "stream",
     "text": [
      "\n",
      " but the original matrix?WHOA!It got changed too!\n",
      "[[1000   12   13]\n",
      " [  21   22   23]\n",
      " [  31   32   33]]\n"
     ]
    }
   ],
   "source": [
    "print(\"\\n but the original matrix?WHOA!It got changed too!\")\n",
    "print(mat)"
   ]
  },
  {
   "cell_type": "code",
   "execution_count": 95,
   "metadata": {},
   "outputs": [
    {
     "name": "stdout",
     "output_type": "stream",
     "text": [
      "\n",
      " Doing it again little differently now-----\n",
      "\n",
      "original matrix\n",
      "[[11 12 13]\n",
      " [21 22 23]\n",
      " [21 32 33]]\n"
     ]
    }
   ],
   "source": [
    "#little different way to create a copy of the sliced matrix\n",
    "print(\"\\n Doing it again little differently now-----\\n\")\n",
    "mat=np.array([[11,12,13],[21,22,23],[21,32,33]])\n",
    "print(\"original matrix\")\n",
    "print(mat)"
   ]
  },
  {
   "cell_type": "markdown",
   "metadata": {},
   "source": [
    "# Universal function"
   ]
  },
  {
   "cell_type": "code",
   "execution_count": 96,
   "metadata": {},
   "outputs": [
    {
     "name": "stdout",
     "output_type": "stream",
     "text": [
      "\n",
      "1st matrix of random single digit numbers\n",
      "----------------------------------------------\n",
      " [[2 2 3]\n",
      " [4 1 2]\n",
      " [5 4 8]]\n",
      "\n",
      "2nd matrix of random single digit numbers\n",
      "----------------------------------------------\n",
      " [[7 1 5]\n",
      " [4 3 9]\n",
      " [3 4 7]]\n"
     ]
    }
   ],
   "source": [
    "mat1=np.array(ri(1,10,9)).reshape(3,3)\n",
    "mat2=np.array(ri(1,10,9)).reshape(3,3)\n",
    "print(\"\\n1st matrix of random single digit numbers\\n----------------------------------------------\\n\",mat1)\n",
    "print(\"\\n2nd matrix of random single digit numbers\\n----------------------------------------------\\n\",mat2)"
   ]
  },
  {
   "cell_type": "code",
   "execution_count": 97,
   "metadata": {},
   "outputs": [
    {
     "name": "stdout",
     "output_type": "stream",
     "text": [
      "\n",
      "Addition\n",
      "----------------------------\n",
      " [[ 9  3  8]\n",
      " [ 8  4 11]\n",
      " [ 8  8 15]]\n",
      "\n",
      "Multiplication\n",
      "------------------------\n",
      " [[14  2 15]\n",
      " [16  3 18]\n",
      " [15 16 56]]\n"
     ]
    }
   ],
   "source": [
    "print(\"\\nAddition\\n----------------------------\\n\",mat1+mat2)\n",
    "print(\"\\nMultiplication\\n------------------------\\n\",mat1*mat2)"
   ]
  },
  {
   "cell_type": "code",
   "execution_count": 98,
   "metadata": {},
   "outputs": [
    {
     "name": "stdout",
     "output_type": "stream",
     "text": [
      "\n",
      "Division\n",
      "----------------------\n",
      " [[0.28571429 2.         0.6       ]\n",
      " [1.         0.33333333 0.22222222]\n",
      " [1.66666667 1.         1.14285714]]\n"
     ]
    }
   ],
   "source": [
    "print(\"\\nDivision\\n----------------------\\n\",mat1/mat2)\n"
   ]
  },
  {
   "cell_type": "code",
   "execution_count": 99,
   "metadata": {},
   "outputs": [
    {
     "name": "stdout",
     "output_type": "stream",
     "text": [
      "\n",
      "LInear combination:3*a - 2*b\n",
      "------------------------\n",
      " [[ -8   4  -1]\n",
      " [  4  -3 -12]\n",
      " [  9   4  10]]\n"
     ]
    }
   ],
   "source": [
    "print(\"\\nLInear combination:3*a - 2*b\\n------------------------\\n\",3*mat1-2*mat2)"
   ]
  },
  {
   "cell_type": "code",
   "execution_count": 100,
   "metadata": {},
   "outputs": [
    {
     "name": "stdout",
     "output_type": "stream",
     "text": [
      "\n",
      "Addition of a scalor(100)\n",
      "------------------------------\n",
      " [[102 102 103]\n",
      " [104 101 102]\n",
      " [105 104 108]]\n"
     ]
    }
   ],
   "source": [
    "print(\"\\nAddition of a scalor(100)\\n------------------------------\\n\",100+mat1)\n",
    "new_mat=100+mat1"
   ]
  },
  {
   "cell_type": "code",
   "execution_count": 101,
   "metadata": {},
   "outputs": [
    {
     "data": {
      "text/plain": [
       "array([[102, 102, 103],\n",
       "       [104, 101, 102],\n",
       "       [105, 104, 108]])"
      ]
     },
     "execution_count": 101,
     "metadata": {},
     "output_type": "execute_result"
    }
   ],
   "source": [
    "new_mat"
   ]
  },
  {
   "cell_type": "code",
   "execution_count": 102,
   "metadata": {},
   "outputs": [
    {
     "name": "stdout",
     "output_type": "stream",
     "text": [
      "\n",
      "Exponential,matrix cubed here\n",
      "-------------------------------------------\n",
      "  [[  8   8  27]\n",
      " [ 64   1   8]\n",
      " [125  64 512]]\n",
      "\n",
      " Exponential,sr-root using pow function\n",
      "--------------------------------------\n",
      " [[1.41421356 1.41421356 1.73205081]\n",
      " [2.         1.         1.41421356]\n",
      " [2.23606798 2.         2.82842712]]\n"
     ]
    }
   ],
   "source": [
    "print(\"\\nExponential,matrix cubed here\\n-------------------------------------------\\n \",mat1**3)\n",
    "print(\"\\n Exponential,sr-root using pow function\\n--------------------------------------\\n\",pow(mat1,0.5))"
   ]
  },
  {
   "cell_type": "code",
   "execution_count": 103,
   "metadata": {},
   "outputs": [
    {
     "data": {
      "text/plain": [
       "array([[2, 2, 3],\n",
       "       [4, 1, 2],\n",
       "       [5, 4, 8]])"
      ]
     },
     "execution_count": 103,
     "metadata": {},
     "output_type": "execute_result"
    }
   ],
   "source": [
    "mat1"
   ]
  },
  {
   "cell_type": "code",
   "execution_count": 104,
   "metadata": {},
   "outputs": [
    {
     "data": {
      "text/plain": [
       "array([[7, 1, 5],\n",
       "       [4, 3, 9],\n",
       "       [3, 4, 7]])"
      ]
     },
     "execution_count": 104,
     "metadata": {},
     "output_type": "execute_result"
    }
   ],
   "source": [
    "mat2"
   ]
  },
  {
   "cell_type": "markdown",
   "metadata": {},
   "source": [
    "# Broadcasting"
   ]
  },
  {
   "cell_type": "code",
   "execution_count": 105,
   "metadata": {},
   "outputs": [
    {
     "name": "stdout",
     "output_type": "stream",
     "text": [
      "[[0. 0. 0.]\n",
      " [0. 0. 0.]\n",
      " [0. 0. 0.]]\n"
     ]
    }
   ],
   "source": [
    "Start=np.zeros((3,3))\n",
    "print(Start)"
   ]
  },
  {
   "cell_type": "code",
   "execution_count": 106,
   "metadata": {},
   "outputs": [
    {
     "name": "stdout",
     "output_type": "stream",
     "text": [
      "[1 0 2]\n"
     ]
    }
   ],
   "source": [
    "#create a rank 1 ndarray with 3 values \n",
    "add_rows=np.array([1,0,2])\n",
    "print(add_rows)"
   ]
  },
  {
   "cell_type": "code",
   "execution_count": 107,
   "metadata": {},
   "outputs": [
    {
     "name": "stdout",
     "output_type": "stream",
     "text": [
      "[[1. 0. 2.]\n",
      " [1. 0. 2.]\n",
      " [1. 0. 2.]]\n"
     ]
    }
   ],
   "source": [
    "#add to each row of 'start'using broadcasting\n",
    "y=Start+add_rows\n",
    "print(y)"
   ]
  },
  {
   "cell_type": "code",
   "execution_count": 108,
   "metadata": {},
   "outputs": [
    {
     "name": "stdout",
     "output_type": "stream",
     "text": [
      "[[0]\n",
      " [1]\n",
      " [2]\n",
      " [3]]\n"
     ]
    }
   ],
   "source": [
    "#create an ndaarray which is 4% 1 to broadcast across columns\n",
    "add_cols=np.array([[0,1,2,3]])\n",
    "add_cols=add_cols.T\n",
    "print(add_cols)"
   ]
  },
  {
   "cell_type": "code",
   "execution_count": 109,
   "metadata": {},
   "outputs": [
    {
     "data": {
      "text/plain": [
       "array([[0., 0., 0.],\n",
       "       [0., 0., 0.],\n",
       "       [0., 0., 0.]])"
      ]
     },
     "execution_count": 109,
     "metadata": {},
     "output_type": "execute_result"
    }
   ],
   "source": [
    "Start"
   ]
  },
  {
   "cell_type": "code",
   "execution_count": 110,
   "metadata": {},
   "outputs": [
    {
     "name": "stdout",
     "output_type": "stream",
     "text": [
      "[[100. 100. 100.]\n",
      " [100. 100. 100.]\n",
      " [100. 100. 100.]]\n"
     ]
    }
   ],
   "source": [
    "#This will just broadcasting in both dimensions \n",
    "add_scalor=np.array([100])\n",
    "print(Start+add_scalor)"
   ]
  },
  {
   "cell_type": "markdown",
   "metadata": {},
   "source": [
    "# Array math"
   ]
  },
  {
   "cell_type": "code",
   "execution_count": 111,
   "metadata": {},
   "outputs": [
    {
     "name": "stdout",
     "output_type": "stream",
     "text": [
      "\n",
      "1st matrix of random single digit number\n",
      "-----------------\n",
      " [[2 5 9]\n",
      " [2 9 8]\n",
      " [3 2 4]]\n",
      "\n",
      "2nd matrix of random single digit number\n",
      "-----------------\n",
      " [[4 2 5]\n",
      " [6 1 6]\n",
      " [9 7 6]]\n"
     ]
    }
   ],
   "source": [
    "mat1=np.array(ri(1,10,9)).reshape(3,3)\n",
    "mat2=np.array(ri(1,10,9)).reshape(3,3)\n",
    "print(\"\\n1st matrix of random single digit number\\n-----------------\\n\",mat1)\n",
    "print(\"\\n2nd matrix of random single digit number\\n-----------------\\n\",mat2)\n"
   ]
  },
  {
   "cell_type": "code",
   "execution_count": 112,
   "metadata": {},
   "outputs": [
    {
     "name": "stdout",
     "output_type": "stream",
     "text": [
      "\n",
      "sq-root of 1st matrix using np\n",
      "-------------------------------------\n",
      " [[1.41421356 2.23606798 3.        ]\n",
      " [1.41421356 3.         2.82842712]\n",
      " [1.73205081 1.41421356 2.        ]]\n"
     ]
    }
   ],
   "source": [
    "print(\"\\nsq-root of 1st matrix using np\\n-------------------------------------\\n\",np.sqrt(mat1))"
   ]
  },
  {
   "cell_type": "code",
   "execution_count": 113,
   "metadata": {},
   "outputs": [
    {
     "name": "stdout",
     "output_type": "stream",
     "text": [
      "\n",
      "Exponential power of 1st matrix using np\n",
      " -------------------------------------------------- \n",
      " [[7.38905610e+00 1.48413159e+02 8.10308393e+03]\n",
      " [7.38905610e+00 8.10308393e+03 2.98095799e+03]\n",
      " [2.00855369e+01 7.38905610e+00 5.45981500e+01]]\n"
     ]
    }
   ],
   "source": [
    "print(\"\\nExponential power of 1st matrix using np\\n\",'-'*50,\"\\n\",np.exp(mat1))"
   ]
  },
  {
   "cell_type": "code",
   "execution_count": 114,
   "metadata": {},
   "outputs": [
    {
     "name": "stdout",
     "output_type": "stream",
     "text": [
      "\n",
      "10 base logarithm on 1st matrix using np\n",
      " -------------------------------------------------- \n",
      " [[0.30103    0.69897    0.95424251]\n",
      " [0.30103    0.95424251 0.90308999]\n",
      " [0.47712125 0.30103    0.60205999]]\n"
     ]
    }
   ],
   "source": [
    "print(\"\\n10 base logarithm on 1st matrix using np\\n\",'-'*50,\"\\n\",np.log10(mat1))"
   ]
  },
  {
   "cell_type": "code",
   "execution_count": 115,
   "metadata": {},
   "outputs": [
    {
     "data": {
      "text/plain": [
       "1.0986122886681098"
      ]
     },
     "execution_count": 115,
     "metadata": {},
     "output_type": "execute_result"
    }
   ],
   "source": [
    "np.log(3)"
   ]
  },
  {
   "cell_type": "markdown",
   "metadata": {},
   "source": [
    "# Pandas"
   ]
  },
  {
   "cell_type": "code",
   "execution_count": 116,
   "metadata": {},
   "outputs": [],
   "source": [
    "import numpy as np\n",
    "import pandas as pd"
   ]
  },
  {
   "cell_type": "code",
   "execution_count": 117,
   "metadata": {},
   "outputs": [
    {
     "name": "stderr",
     "output_type": "stream",
     "text": [
      "<ipython-input-117-256366896314>:1: DeprecationWarning: The default dtype for empty Series will be 'object' instead of 'float64' in a future version. Specify a dtype explicitly to silence this warning.\n",
      "  ser=pd.Series()\n"
     ]
    },
    {
     "data": {
      "text/plain": [
       "Series([], dtype: float64)"
      ]
     },
     "execution_count": 117,
     "metadata": {},
     "output_type": "execute_result"
    }
   ],
   "source": [
    "ser=pd.Series()\n",
    "ser"
   ]
  },
  {
   "cell_type": "code",
   "execution_count": 118,
   "metadata": {},
   "outputs": [
    {
     "data": {
      "text/plain": [
       "0     0\n",
       "1    10\n",
       "2    20\n",
       "3    30\n",
       "4    40\n",
       "5    50\n",
       "6    60\n",
       "7    70\n",
       "8    80\n",
       "9    90\n",
       "dtype: int64"
      ]
     },
     "execution_count": 118,
     "metadata": {},
     "output_type": "execute_result"
    }
   ],
   "source": [
    "ser=pd.Series([0,10,20,30,40,50,60,70,80,90,])\n",
    "ser"
   ]
  },
  {
   "cell_type": "code",
   "execution_count": 119,
   "metadata": {},
   "outputs": [
    {
     "data": {
      "text/plain": [
       "0      20\n",
       "1    15.7\n",
       "2      10\n",
       "dtype: object"
      ]
     },
     "execution_count": 119,
     "metadata": {},
     "output_type": "execute_result"
    }
   ],
   "source": [
    "#Notice Datatype\n",
    "ser=pd.Series([20,15.7,\"10\"])\n",
    "ser"
   ]
  },
  {
   "cell_type": "code",
   "execution_count": 120,
   "metadata": {},
   "outputs": [
    {
     "data": {
      "text/plain": [
       "0    20.0\n",
       "1    15.7\n",
       "dtype: float64"
      ]
     },
     "execution_count": 120,
     "metadata": {},
     "output_type": "execute_result"
    }
   ],
   "source": [
    "#Notice datatype\n",
    "ser=pd.Series([20,15.7])\n",
    "ser"
   ]
  },
  {
   "cell_type": "markdown",
   "metadata": {},
   "source": [
    "Create dictionary"
   ]
  },
  {
   "cell_type": "code",
   "execution_count": 121,
   "metadata": {},
   "outputs": [
    {
     "data": {
      "text/html": [
       "<div>\n",
       "<style scoped>\n",
       "    .dataframe tbody tr th:only-of-type {\n",
       "        vertical-align: middle;\n",
       "    }\n",
       "\n",
       "    .dataframe tbody tr th {\n",
       "        vertical-align: top;\n",
       "    }\n",
       "\n",
       "    .dataframe thead th {\n",
       "        text-align: right;\n",
       "    }\n",
       "</style>\n",
       "<table border=\"1\" class=\"dataframe\">\n",
       "  <thead>\n",
       "    <tr style=\"text-align: right;\">\n",
       "      <th></th>\n",
       "      <th>a</th>\n",
       "      <th>b</th>\n",
       "      <th>c</th>\n",
       "    </tr>\n",
       "  </thead>\n",
       "  <tbody>\n",
       "    <tr>\n",
       "      <th>0</th>\n",
       "      <td>1</td>\n",
       "      <td>4</td>\n",
       "      <td>7</td>\n",
       "    </tr>\n",
       "    <tr>\n",
       "      <th>1</th>\n",
       "      <td>2</td>\n",
       "      <td>5</td>\n",
       "      <td>8</td>\n",
       "    </tr>\n",
       "    <tr>\n",
       "      <th>2</th>\n",
       "      <td>3</td>\n",
       "      <td>6</td>\n",
       "      <td>9</td>\n",
       "    </tr>\n",
       "  </tbody>\n",
       "</table>\n",
       "</div>"
      ],
      "text/plain": [
       "   a  b  c\n",
       "0  1  4  7\n",
       "1  2  5  8\n",
       "2  3  6  9"
      ]
     },
     "execution_count": 121,
     "metadata": {},
     "output_type": "execute_result"
    }
   ],
   "source": [
    "dict={'a':[1,2,3],'b':[4,5,6],'c':[7,8,9]}\n",
    "df=pd.DataFrame(dict)\n",
    "df"
   ]
  },
  {
   "cell_type": "code",
   "execution_count": 122,
   "metadata": {},
   "outputs": [],
   "source": [
    "#Add new column and add values into it\n",
    "df['State']=\"ca nv az\".split()"
   ]
  },
  {
   "cell_type": "code",
   "execution_count": 123,
   "metadata": {},
   "outputs": [
    {
     "data": {
      "text/html": [
       "<div>\n",
       "<style scoped>\n",
       "    .dataframe tbody tr th:only-of-type {\n",
       "        vertical-align: middle;\n",
       "    }\n",
       "\n",
       "    .dataframe tbody tr th {\n",
       "        vertical-align: top;\n",
       "    }\n",
       "\n",
       "    .dataframe thead th {\n",
       "        text-align: right;\n",
       "    }\n",
       "</style>\n",
       "<table border=\"1\" class=\"dataframe\">\n",
       "  <thead>\n",
       "    <tr style=\"text-align: right;\">\n",
       "      <th></th>\n",
       "      <th>a</th>\n",
       "      <th>b</th>\n",
       "      <th>c</th>\n",
       "      <th>State</th>\n",
       "    </tr>\n",
       "  </thead>\n",
       "  <tbody>\n",
       "    <tr>\n",
       "      <th>0</th>\n",
       "      <td>1</td>\n",
       "      <td>4</td>\n",
       "      <td>7</td>\n",
       "      <td>ca</td>\n",
       "    </tr>\n",
       "    <tr>\n",
       "      <th>1</th>\n",
       "      <td>2</td>\n",
       "      <td>5</td>\n",
       "      <td>8</td>\n",
       "      <td>nv</td>\n",
       "    </tr>\n",
       "    <tr>\n",
       "      <th>2</th>\n",
       "      <td>3</td>\n",
       "      <td>6</td>\n",
       "      <td>9</td>\n",
       "      <td>az</td>\n",
       "    </tr>\n",
       "  </tbody>\n",
       "</table>\n",
       "</div>"
      ],
      "text/plain": [
       "   a  b  c State\n",
       "0  1  4  7    ca\n",
       "1  2  5  8    nv\n",
       "2  3  6  9    az"
      ]
     },
     "execution_count": 123,
     "metadata": {},
     "output_type": "execute_result"
    }
   ],
   "source": [
    "df"
   ]
  },
  {
   "cell_type": "code",
   "execution_count": 124,
   "metadata": {},
   "outputs": [],
   "source": [
    "#How to create nan values and its manipulation\n",
    "dict = {'a':[1,2,np.nan],'b':[5,np.nan,np.nan],'c':[1,2,3]}"
   ]
  },
  {
   "cell_type": "code",
   "execution_count": 125,
   "metadata": {},
   "outputs": [
    {
     "data": {
      "text/html": [
       "<div>\n",
       "<style scoped>\n",
       "    .dataframe tbody tr th:only-of-type {\n",
       "        vertical-align: middle;\n",
       "    }\n",
       "\n",
       "    .dataframe tbody tr th {\n",
       "        vertical-align: top;\n",
       "    }\n",
       "\n",
       "    .dataframe thead th {\n",
       "        text-align: right;\n",
       "    }\n",
       "</style>\n",
       "<table border=\"1\" class=\"dataframe\">\n",
       "  <thead>\n",
       "    <tr style=\"text-align: right;\">\n",
       "      <th></th>\n",
       "      <th>a</th>\n",
       "      <th>b</th>\n",
       "      <th>c</th>\n",
       "    </tr>\n",
       "  </thead>\n",
       "  <tbody>\n",
       "    <tr>\n",
       "      <th>0</th>\n",
       "      <td>1.0</td>\n",
       "      <td>5.0</td>\n",
       "      <td>1</td>\n",
       "    </tr>\n",
       "    <tr>\n",
       "      <th>1</th>\n",
       "      <td>2.0</td>\n",
       "      <td>NaN</td>\n",
       "      <td>2</td>\n",
       "    </tr>\n",
       "    <tr>\n",
       "      <th>2</th>\n",
       "      <td>NaN</td>\n",
       "      <td>NaN</td>\n",
       "      <td>3</td>\n",
       "    </tr>\n",
       "  </tbody>\n",
       "</table>\n",
       "</div>"
      ],
      "text/plain": [
       "     a    b  c\n",
       "0  1.0  5.0  1\n",
       "1  2.0  NaN  2\n",
       "2  NaN  NaN  3"
      ]
     },
     "execution_count": 125,
     "metadata": {},
     "output_type": "execute_result"
    }
   ],
   "source": [
    "df=pd.DataFrame(dict)\n",
    "df"
   ]
  },
  {
   "cell_type": "code",
   "execution_count": 126,
   "metadata": {},
   "outputs": [
    {
     "data": {
      "text/html": [
       "<div>\n",
       "<style scoped>\n",
       "    .dataframe tbody tr th:only-of-type {\n",
       "        vertical-align: middle;\n",
       "    }\n",
       "\n",
       "    .dataframe tbody tr th {\n",
       "        vertical-align: top;\n",
       "    }\n",
       "\n",
       "    .dataframe thead th {\n",
       "        text-align: right;\n",
       "    }\n",
       "</style>\n",
       "<table border=\"1\" class=\"dataframe\">\n",
       "  <thead>\n",
       "    <tr style=\"text-align: right;\">\n",
       "      <th></th>\n",
       "      <th>a</th>\n",
       "      <th>b</th>\n",
       "      <th>c</th>\n",
       "      <th>States</th>\n",
       "    </tr>\n",
       "  </thead>\n",
       "  <tbody>\n",
       "    <tr>\n",
       "      <th>0</th>\n",
       "      <td>1.0</td>\n",
       "      <td>5.0</td>\n",
       "      <td>1</td>\n",
       "      <td>CA</td>\n",
       "    </tr>\n",
       "    <tr>\n",
       "      <th>1</th>\n",
       "      <td>2.0</td>\n",
       "      <td>NaN</td>\n",
       "      <td>2</td>\n",
       "      <td>NV</td>\n",
       "    </tr>\n",
       "    <tr>\n",
       "      <th>2</th>\n",
       "      <td>NaN</td>\n",
       "      <td>NaN</td>\n",
       "      <td>3</td>\n",
       "      <td>AZ</td>\n",
       "    </tr>\n",
       "  </tbody>\n",
       "</table>\n",
       "</div>"
      ],
      "text/plain": [
       "     a    b  c States\n",
       "0  1.0  5.0  1     CA\n",
       "1  2.0  NaN  2     NV\n",
       "2  NaN  NaN  3     AZ"
      ]
     },
     "execution_count": 126,
     "metadata": {},
     "output_type": "execute_result"
    }
   ],
   "source": [
    "df['States']= \"CA NV AZ\".split()\n",
    "df"
   ]
  },
  {
   "cell_type": "code",
   "execution_count": 127,
   "metadata": {},
   "outputs": [
    {
     "name": "stdout",
     "output_type": "stream",
     "text": [
      "\n",
      "Dropping any column with a nan value\n",
      "-----------------------------------\n",
      "   c States\n",
      "0  1     CA\n",
      "1  2     NV\n",
      "2  3     AZ\n"
     ]
    }
   ],
   "source": [
    "print(\"\\nDropping any column with a nan value\\n\",'-'*35,sep='')\n",
    "print(df.dropna(axis=1))"
   ]
  },
  {
   "cell_type": "code",
   "execution_count": 128,
   "metadata": {},
   "outputs": [
    {
     "data": {
      "text/html": [
       "<div>\n",
       "<style scoped>\n",
       "    .dataframe tbody tr th:only-of-type {\n",
       "        vertical-align: middle;\n",
       "    }\n",
       "\n",
       "    .dataframe tbody tr th {\n",
       "        vertical-align: top;\n",
       "    }\n",
       "\n",
       "    .dataframe thead th {\n",
       "        text-align: right;\n",
       "    }\n",
       "</style>\n",
       "<table border=\"1\" class=\"dataframe\">\n",
       "  <thead>\n",
       "    <tr style=\"text-align: right;\">\n",
       "      <th></th>\n",
       "      <th>a</th>\n",
       "      <th>b</th>\n",
       "      <th>c</th>\n",
       "      <th>States</th>\n",
       "    </tr>\n",
       "  </thead>\n",
       "  <tbody>\n",
       "    <tr>\n",
       "      <th>0</th>\n",
       "      <td>1.0</td>\n",
       "      <td>5.0</td>\n",
       "      <td>1</td>\n",
       "      <td>CA</td>\n",
       "    </tr>\n",
       "    <tr>\n",
       "      <th>1</th>\n",
       "      <td>2.0</td>\n",
       "      <td>NaN</td>\n",
       "      <td>2</td>\n",
       "      <td>NV</td>\n",
       "    </tr>\n",
       "    <tr>\n",
       "      <th>2</th>\n",
       "      <td>NaN</td>\n",
       "      <td>NaN</td>\n",
       "      <td>3</td>\n",
       "      <td>AZ</td>\n",
       "    </tr>\n",
       "  </tbody>\n",
       "</table>\n",
       "</div>"
      ],
      "text/plain": [
       "     a    b  c States\n",
       "0  1.0  5.0  1     CA\n",
       "1  2.0  NaN  2     NV\n",
       "2  NaN  NaN  3     AZ"
      ]
     },
     "execution_count": 128,
     "metadata": {},
     "output_type": "execute_result"
    }
   ],
   "source": [
    "df"
   ]
  },
  {
   "cell_type": "code",
   "execution_count": 129,
   "metadata": {},
   "outputs": [
    {
     "name": "stdout",
     "output_type": "stream",
     "text": [
      "\n",
      "Filling values with a default value\n",
      "-----------------------------------\n",
      "      a     b  c States\n",
      "0   1.0   5.0  1     CA\n",
      "1   2.0  20.0  2     NV\n",
      "2  20.0  20.0  3     AZ\n"
     ]
    }
   ],
   "source": [
    "print(\"\\nFilling values with a default value\\n\",'-'*35,sep='')\n",
    "print(df.fillna(value=20))"
   ]
  },
  {
   "cell_type": "code",
   "execution_count": 130,
   "metadata": {},
   "outputs": [
    {
     "data": {
      "text/html": [
       "<div>\n",
       "<style scoped>\n",
       "    .dataframe tbody tr th:only-of-type {\n",
       "        vertical-align: middle;\n",
       "    }\n",
       "\n",
       "    .dataframe tbody tr th {\n",
       "        vertical-align: top;\n",
       "    }\n",
       "\n",
       "    .dataframe thead th {\n",
       "        text-align: right;\n",
       "    }\n",
       "</style>\n",
       "<table border=\"1\" class=\"dataframe\">\n",
       "  <thead>\n",
       "    <tr style=\"text-align: right;\">\n",
       "      <th></th>\n",
       "      <th>a</th>\n",
       "      <th>b</th>\n",
       "      <th>c</th>\n",
       "      <th>States</th>\n",
       "    </tr>\n",
       "  </thead>\n",
       "  <tbody>\n",
       "    <tr>\n",
       "      <th>0</th>\n",
       "      <td>1.0</td>\n",
       "      <td>5.0</td>\n",
       "      <td>1</td>\n",
       "      <td>CA</td>\n",
       "    </tr>\n",
       "    <tr>\n",
       "      <th>1</th>\n",
       "      <td>2.0</td>\n",
       "      <td>NaN</td>\n",
       "      <td>2</td>\n",
       "      <td>NV</td>\n",
       "    </tr>\n",
       "    <tr>\n",
       "      <th>2</th>\n",
       "      <td>NaN</td>\n",
       "      <td>NaN</td>\n",
       "      <td>3</td>\n",
       "      <td>AZ</td>\n",
       "    </tr>\n",
       "  </tbody>\n",
       "</table>\n",
       "</div>"
      ],
      "text/plain": [
       "     a    b  c States\n",
       "0  1.0  5.0  1     CA\n",
       "1  2.0  NaN  2     NV\n",
       "2  NaN  NaN  3     AZ"
      ]
     },
     "execution_count": 130,
     "metadata": {},
     "output_type": "execute_result"
    }
   ],
   "source": [
    "df"
   ]
  },
  {
   "cell_type": "code",
   "execution_count": 131,
   "metadata": {},
   "outputs": [
    {
     "name": "stdout",
     "output_type": "stream",
     "text": [
      "\n",
      "Dropping any rows with a nan values\n",
      " -----------------------------------\n",
      "     a    b  c States\n",
      "0  1.0  5.0  1     CA\n"
     ]
    }
   ],
   "source": [
    "print(\"\\nDropping any rows with a nan values\\n\",'-'*35)\n",
    "print(df.dropna(axis=0))"
   ]
  },
  {
   "cell_type": "code",
   "execution_count": 132,
   "metadata": {},
   "outputs": [
    {
     "data": {
      "text/html": [
       "<div>\n",
       "<style scoped>\n",
       "    .dataframe tbody tr th:only-of-type {\n",
       "        vertical-align: middle;\n",
       "    }\n",
       "\n",
       "    .dataframe tbody tr th {\n",
       "        vertical-align: top;\n",
       "    }\n",
       "\n",
       "    .dataframe thead th {\n",
       "        text-align: right;\n",
       "    }\n",
       "</style>\n",
       "<table border=\"1\" class=\"dataframe\">\n",
       "  <thead>\n",
       "    <tr style=\"text-align: right;\">\n",
       "      <th></th>\n",
       "      <th>a</th>\n",
       "      <th>b</th>\n",
       "      <th>c</th>\n",
       "      <th>States</th>\n",
       "    </tr>\n",
       "  </thead>\n",
       "  <tbody>\n",
       "    <tr>\n",
       "      <th>0</th>\n",
       "      <td>1.0</td>\n",
       "      <td>5.0</td>\n",
       "      <td>1</td>\n",
       "      <td>CA</td>\n",
       "    </tr>\n",
       "    <tr>\n",
       "      <th>1</th>\n",
       "      <td>2.0</td>\n",
       "      <td>NaN</td>\n",
       "      <td>2</td>\n",
       "      <td>NV</td>\n",
       "    </tr>\n",
       "    <tr>\n",
       "      <th>2</th>\n",
       "      <td>NaN</td>\n",
       "      <td>NaN</td>\n",
       "      <td>3</td>\n",
       "      <td>AZ</td>\n",
       "    </tr>\n",
       "  </tbody>\n",
       "</table>\n",
       "</div>"
      ],
      "text/plain": [
       "     a    b  c States\n",
       "0  1.0  5.0  1     CA\n",
       "1  2.0  NaN  2     NV\n",
       "2  NaN  NaN  3     AZ"
      ]
     },
     "execution_count": 132,
     "metadata": {},
     "output_type": "execute_result"
    }
   ],
   "source": [
    "#dataframe remains some will see how we can save the dataframe later\n",
    "df"
   ]
  },
  {
   "cell_type": "code",
   "execution_count": 133,
   "metadata": {},
   "outputs": [
    {
     "name": "stdout",
     "output_type": "stream",
     "text": [
      " \n",
      "Filling value with a computed value(mean of colume A here)\n",
      "------------------------------------------------------------\n",
      "     a    b  c States\n",
      "0  1.0  5.0  1     CA\n",
      "1  2.0  1.5  2     NV\n",
      "2  1.5  1.5  3     AZ\n"
     ]
    }
   ],
   "source": [
    "print(\" \\nFilling value with a computed value(mean of colume A here)\\n\",'-'*60,sep='')\n",
    "print(df.fillna(value=df['a'].mean()))"
   ]
  },
  {
   "cell_type": "code",
   "execution_count": 134,
   "metadata": {},
   "outputs": [
    {
     "data": {
      "text/html": [
       "<div>\n",
       "<style scoped>\n",
       "    .dataframe tbody tr th:only-of-type {\n",
       "        vertical-align: middle;\n",
       "    }\n",
       "\n",
       "    .dataframe tbody tr th {\n",
       "        vertical-align: top;\n",
       "    }\n",
       "\n",
       "    .dataframe thead th {\n",
       "        text-align: right;\n",
       "    }\n",
       "</style>\n",
       "<table border=\"1\" class=\"dataframe\">\n",
       "  <thead>\n",
       "    <tr style=\"text-align: right;\">\n",
       "      <th></th>\n",
       "      <th>company</th>\n",
       "      <th>person</th>\n",
       "      <th>sales</th>\n",
       "    </tr>\n",
       "  </thead>\n",
       "  <tbody>\n",
       "    <tr>\n",
       "      <th>0</th>\n",
       "      <td>google</td>\n",
       "      <td>sam</td>\n",
       "      <td>200</td>\n",
       "    </tr>\n",
       "    <tr>\n",
       "      <th>1</th>\n",
       "      <td>google</td>\n",
       "      <td>charlie</td>\n",
       "      <td>120</td>\n",
       "    </tr>\n",
       "    <tr>\n",
       "      <th>2</th>\n",
       "      <td>MSFT</td>\n",
       "      <td>ram</td>\n",
       "      <td>340</td>\n",
       "    </tr>\n",
       "    <tr>\n",
       "      <th>3</th>\n",
       "      <td>MSFT</td>\n",
       "      <td>dhyan</td>\n",
       "      <td>124</td>\n",
       "    </tr>\n",
       "    <tr>\n",
       "      <th>4</th>\n",
       "      <td>FB</td>\n",
       "      <td>np</td>\n",
       "      <td>243</td>\n",
       "    </tr>\n",
       "    <tr>\n",
       "      <th>5</th>\n",
       "      <td>FB</td>\n",
       "      <td>jp</td>\n",
       "      <td>350</td>\n",
       "    </tr>\n",
       "  </tbody>\n",
       "</table>\n",
       "</div>"
      ],
      "text/plain": [
       "  company   person  sales\n",
       "0  google      sam    200\n",
       "1  google  charlie    120\n",
       "2    MSFT      ram    340\n",
       "3    MSFT    dhyan    124\n",
       "4      FB       np    243\n",
       "5      FB       jp    350"
      ]
     },
     "execution_count": 134,
     "metadata": {},
     "output_type": "execute_result"
    }
   ],
   "source": [
    "#Create dataframe\n",
    "data={'company':['google','google','MSFT','MSFT','FB','FB'],\n",
    "     'person':['sam','charlie','ram','dhyan','np','jp'],\n",
    "     'sales':[200,120,340,124,243,350]}\n",
    "df=pd.DataFrame(data)\n",
    "df"
   ]
  },
  {
   "cell_type": "code",
   "execution_count": 135,
   "metadata": {},
   "outputs": [
    {
     "name": "stdout",
     "output_type": "stream",
     "text": [
      "\n",
      "Grouping by 'company'column and listing mean sales\n",
      "-------------------------------------------------------\n",
      "         sales\n",
      "company       \n",
      "FB       296.5\n",
      "MSFT     232.0\n",
      "google   160.0\n"
     ]
    }
   ],
   "source": [
    "bycomp=df.groupby('company')\n",
    "print(\"\\nGrouping by 'company'column and listing mean sales\\n\",'-'*55,sep='')\n",
    "print(bycomp.mean())"
   ]
  },
  {
   "cell_type": "code",
   "execution_count": 7,
   "metadata": {},
   "outputs": [],
   "source": [
    "#Merging two data frames\n",
    "#Creating data frames\n",
    "df1=pd.DataFrame({'a':['a0','a1','a2','a3'],\n",
    "                 'b':['b0','b1','b2','b3'],\n",
    "                 'c':['c0','c1','c2','c3'],\n",
    "                 'd':['d0','d1','d2','d3']},\n",
    "                index=[0,1,2,3])\n",
    "\n",
    "df2=pd.DataFrame({'a':['a4','a5','a6','a7'],\n",
    "                 'b':['b4','b5','b6','b7'],\n",
    "                 'c':['c4','c5','c6','c7'],\n",
    "                 'd':['d4','d5','d6','d7']},\n",
    "                index=[4,5,6,7])\n",
    "\n",
    "df3=pd.DataFrame({'a':['a8','a9','a10','a11'],\n",
    "                 'b':['b8','b9','b10','b11'],\n",
    "                 'c':['c8','c9','c10','c11'],\n",
    "                 'd':['d8','d9','d10','d11']},\n",
    "                index=[8,9,10,11])\n"
   ]
  },
  {
   "cell_type": "code",
   "execution_count": 8,
   "metadata": {},
   "outputs": [
    {
     "name": "stdout",
     "output_type": "stream",
     "text": [
      "\n",
      "The DataFrame number 1\n",
      "------------------------------\n",
      "    a   b   c   d\n",
      "0  a0  b0  c0  d0\n",
      "1  a1  b1  c1  d1\n",
      "2  a2  b2  c2  d2\n",
      "3  a3  b3  c3  d3\n"
     ]
    }
   ],
   "source": [
    "print(\"\\nThe DataFrame number 1\\n\",'-'*30,sep='')\n",
    "print(df1)"
   ]
  },
  {
   "cell_type": "code",
   "execution_count": 9,
   "metadata": {},
   "outputs": [
    {
     "name": "stdout",
     "output_type": "stream",
     "text": [
      "\n",
      "The DataFrame number 2\n",
      "------------------------------\n",
      "    a   b   c   d\n",
      "4  a4  b4  c4  d4\n",
      "5  a5  b5  c5  d5\n",
      "6  a6  b6  c6  d6\n",
      "7  a7  b7  c7  d7\n"
     ]
    }
   ],
   "source": [
    "print(\"\\nThe DataFrame number 2\\n\",'-'*30,sep='')\n",
    "print(df2)"
   ]
  },
  {
   "cell_type": "code",
   "execution_count": 10,
   "metadata": {},
   "outputs": [
    {
     "name": "stdout",
     "output_type": "stream",
     "text": [
      "\n",
      "The DataFrame number 3\n",
      "------------------------------\n",
      "      a    b    c    d\n",
      "8    a8   b8   c8   d8\n",
      "9    a9   b9   c9   d9\n",
      "10  a10  b10  c10  d10\n",
      "11  a11  b11  c11  d11\n"
     ]
    }
   ],
   "source": [
    "print(\"\\nThe DataFrame number 3\\n\",'-'*30,sep='')\n",
    "print(df3)"
   ]
  },
  {
   "cell_type": "code",
   "execution_count": 11,
   "metadata": {},
   "outputs": [
    {
     "name": "stdout",
     "output_type": "stream",
     "text": [
      "\n",
      "After concatenation along row\n",
      "---------------------------------------------\n",
      "      a    b    c    d\n",
      "0    a0   b0   c0   d0\n",
      "1    a1   b1   c1   d1\n",
      "2    a2   b2   c2   d2\n",
      "3    a3   b3   c3   d3\n",
      "4    a4   b4   c4   d4\n",
      "5    a5   b5   c5   d5\n",
      "6    a6   b6   c6   d6\n",
      "7    a7   b7   c7   d7\n",
      "8    a8   b8   c8   d8\n",
      "9    a9   b9   c9   d9\n",
      "10  a10  b10  c10  d10\n",
      "11  a11  b11  c11  d11\n"
     ]
    }
   ],
   "source": [
    "#concatenation\n",
    "df_cat1=pd.concat([df1,df2,df3],axis=0)\n",
    "print(\"\\nAfter concatenation along row\\n\",'-'*45,sep='')\n",
    "print(df_cat1)"
   ]
  },
  {
   "cell_type": "code",
   "execution_count": 12,
   "metadata": {},
   "outputs": [
    {
     "name": "stdout",
     "output_type": "stream",
     "text": [
      "\n",
      "After concatenation along column\n",
      "---------------------------------------------\n",
      "      a    b    c    d    a    b    c    d    a    b    c    d\n",
      "0    a0   b0   c0   d0  NaN  NaN  NaN  NaN  NaN  NaN  NaN  NaN\n",
      "1    a1   b1   c1   d1  NaN  NaN  NaN  NaN  NaN  NaN  NaN  NaN\n",
      "2    a2   b2   c2   d2  NaN  NaN  NaN  NaN  NaN  NaN  NaN  NaN\n",
      "3    a3   b3   c3   d3  NaN  NaN  NaN  NaN  NaN  NaN  NaN  NaN\n",
      "4   NaN  NaN  NaN  NaN   a4   b4   c4   d4  NaN  NaN  NaN  NaN\n",
      "5   NaN  NaN  NaN  NaN   a5   b5   c5   d5  NaN  NaN  NaN  NaN\n",
      "6   NaN  NaN  NaN  NaN   a6   b6   c6   d6  NaN  NaN  NaN  NaN\n",
      "7   NaN  NaN  NaN  NaN   a7   b7   c7   d7  NaN  NaN  NaN  NaN\n",
      "8   NaN  NaN  NaN  NaN  NaN  NaN  NaN  NaN   a8   b8   c8   d8\n",
      "9   NaN  NaN  NaN  NaN  NaN  NaN  NaN  NaN   a9   b9   c9   d9\n",
      "10  NaN  NaN  NaN  NaN  NaN  NaN  NaN  NaN  a10  b10  c10  d10\n",
      "11  NaN  NaN  NaN  NaN  NaN  NaN  NaN  NaN  a11  b11  c11  d11\n"
     ]
    }
   ],
   "source": [
    "df_cat1=pd.concat([df1,df2,df3],axis=1)\n",
    "print(\"\\nAfter concatenation along column\\n\",'-'*45,sep='')\n",
    "print(df_cat1)"
   ]
  },
  {
   "cell_type": "code",
   "execution_count": 14,
   "metadata": {},
   "outputs": [
    {
     "name": "stdout",
     "output_type": "stream",
     "text": [
      "\n",
      "After filling missing value with zero\n",
      "------------------------------------------------------------\n",
      "     a   b   c   d   a   b   c   d    a    b    c    d\n",
      "0   a0  b0  c0  d0   0   0   0   0    0    0    0    0\n",
      "1   a1  b1  c1  d1   0   0   0   0    0    0    0    0\n",
      "2   a2  b2  c2  d2   0   0   0   0    0    0    0    0\n",
      "3   a3  b3  c3  d3   0   0   0   0    0    0    0    0\n",
      "4    0   0   0   0  a4  b4  c4  d4    0    0    0    0\n",
      "5    0   0   0   0  a5  b5  c5  d5    0    0    0    0\n",
      "6    0   0   0   0  a6  b6  c6  d6    0    0    0    0\n",
      "7    0   0   0   0  a7  b7  c7  d7    0    0    0    0\n",
      "8    0   0   0   0   0   0   0   0   a8   b8   c8   d8\n",
      "9    0   0   0   0   0   0   0   0   a9   b9   c9   d9\n",
      "10   0   0   0   0   0   0   0   0  a10  b10  c10  d10\n",
      "11   0   0   0   0   0   0   0   0  a11  b11  c11  d11\n"
     ]
    }
   ],
   "source": [
    "df_cat1.fillna(value=0,inplace=True)\n",
    "print(\"\\nAfter filling missing value with zero\\n\",'-'*60,sep='')\n",
    "print(df_cat1)"
   ]
  },
  {
   "cell_type": "code",
   "execution_count": null,
   "metadata": {},
   "outputs": [],
   "source": []
  }
 ],
 "metadata": {
  "kernelspec": {
   "display_name": "Python 3",
   "language": "python",
   "name": "python3"
  },
  "language_info": {
   "codemirror_mode": {
    "name": "ipython",
    "version": 3
   },
   "file_extension": ".py",
   "mimetype": "text/x-python",
   "name": "python",
   "nbconvert_exporter": "python",
   "pygments_lexer": "ipython3",
   "version": "3.8.5"
  }
 },
 "nbformat": 4,
 "nbformat_minor": 4
}

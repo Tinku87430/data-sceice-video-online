{
 "cells": [
  {
   "cell_type": "markdown",
   "metadata": {},
   "source": [
    "# Matrix Creation"
   ]
  },
  {
   "cell_type": "code",
   "execution_count": 2,
   "metadata": {},
   "outputs": [],
   "source": [
    "import numpy as np\n"
   ]
  },
  {
   "cell_type": "code",
   "execution_count": 3,
   "metadata": {},
   "outputs": [
    {
     "name": "stdout",
     "output_type": "stream",
     "text": [
      "vector of zeroes\n",
      "-------------------\n",
      "[0. 0. 0. 0. 0. 0. 0. 0. 0. 0. 0. 0. 0. 0. 0. 0. 0. 0. 0. 0. 0. 0. 0. 0.\n",
      " 0. 0. 0. 0. 0. 0. 0. 0. 0. 0. 0. 0. 0. 0. 0. 0. 0. 0. 0. 0. 0. 0. 0. 0.\n",
      " 0. 0. 0. 0. 0. 0. 0. 0. 0. 0. 0. 0. 0. 0. 0. 0. 0. 0. 0. 0. 0. 0. 0. 0.\n",
      " 0. 0. 0. 0. 0. 0. 0. 0. 0. 0. 0. 0. 0. 0. 0. 0. 0. 0. 0. 0. 0. 0. 0. 0.\n",
      " 0. 0. 0. 0.]\n"
     ]
    }
   ],
   "source": [
    "print(\"vector of zeroes\\n-------------------\")\n",
    "print(np.zeros(100))"
   ]
  },
  {
   "cell_type": "code",
   "execution_count": 5,
   "metadata": {},
   "outputs": [
    {
     "name": "stdout",
     "output_type": "stream",
     "text": [
      "matrix of zeroes\n",
      "-------------------\n",
      "[[0. 0. 0.]\n",
      " [0. 0. 0.]\n",
      " [0. 0. 0.]\n",
      " [0. 0. 0.]]\n"
     ]
    }
   ],
   "source": [
    "print(\"matrix of zeroes\\n-------------------\")\n",
    "print(np.zeros((4,3)))"
   ]
  },
  {
   "cell_type": "code",
   "execution_count": 6,
   "metadata": {},
   "outputs": [
    {
     "name": "stdout",
     "output_type": "stream",
     "text": [
      "vector of one's\n",
      "----------------------\n",
      "[1. 1. 1. 1. 1. 1. 1. 1. 1. 1.]\n"
     ]
    }
   ],
   "source": [
    "print(\"vector of one's\\n----------------------\")\n",
    "print(np.ones(10))"
   ]
  },
  {
   "cell_type": "code",
   "execution_count": 7,
   "metadata": {},
   "outputs": [
    {
     "name": "stdout",
     "output_type": "stream",
     "text": [
      "matrix of one's\n",
      "-------------------\n",
      "[[1. 1. 1.]\n",
      " [1. 1. 1.]\n",
      " [1. 1. 1.]\n",
      " [1. 1. 1.]]\n"
     ]
    }
   ],
   "source": [
    "print(\"matrix of one's\\n-------------------\")\n",
    "print(np.ones((4,3)))"
   ]
  },
  {
   "cell_type": "code",
   "execution_count": 8,
   "metadata": {},
   "outputs": [
    {
     "name": "stdout",
     "output_type": "stream",
     "text": [
      "matrix of 5's \n",
      "-------------------------------------\n",
      "[[15. 15. 15. 15. 15.]\n",
      " [15. 15. 15. 15. 15.]\n",
      " [15. 15. 15. 15. 15.]\n",
      " [15. 15. 15. 15. 15.]\n",
      " [15. 15. 15. 15. 15.]\n",
      " [15. 15. 15. 15. 15.]\n",
      " [15. 15. 15. 15. 15.]\n",
      " [15. 15. 15. 15. 15.]\n",
      " [15. 15. 15. 15. 15.]\n",
      " [15. 15. 15. 15. 15.]]\n"
     ]
    }
   ],
   "source": [
    "print(\"matrix of 5's \\n-------------------------------------\")\n",
    "print(15*np.ones((10,5)))"
   ]
  },
  {
   "cell_type": "code",
   "execution_count": 10,
   "metadata": {},
   "outputs": [
    {
     "name": "stdout",
     "output_type": "stream",
     "text": [
      "Identity matrix of dimension (5, 5)\n",
      "[[1. 0. 0. 0. 0.]\n",
      " [0. 1. 0. 0. 0.]\n",
      " [0. 0. 1. 0. 0.]\n",
      " [0. 0. 0. 1. 0.]\n",
      " [0. 0. 0. 0. 1.]]\n"
     ]
    }
   ],
   "source": [
    "mat1=np.eye(5)\n",
    "print(\"Identity matrix of dimension\",mat1.shape)\n",
    "print(mat1)"
   ]
  },
  {
   "cell_type": "code",
   "execution_count": 13,
   "metadata": {},
   "outputs": [
    {
     "data": {
      "text/plain": [
       "array([2.        , 2.33333333, 2.66666667, 3.        ])"
      ]
     },
     "execution_count": 13,
     "metadata": {},
     "output_type": "execute_result"
    }
   ],
   "source": [
    "np.linspace(2.0,3.0, num=4, endpoint=True)"
   ]
  },
  {
   "cell_type": "code",
   "execution_count": 15,
   "metadata": {},
   "outputs": [
    {
     "data": {
      "text/plain": [
       "(array([ 2.23456   ,  2.4000907 ,  2.56562141,  2.73115211,  2.89668281,\n",
       "         3.06221351,  3.22774422,  3.39327492,  3.55880562,  3.72433632,\n",
       "         3.88986703,  4.05539773,  4.22092843,  4.38645913,  4.55198984,\n",
       "         4.71752054,  4.88305124,  5.04858195,  5.21411265,  5.37964335,\n",
       "         5.54517405,  5.71070476,  5.87623546,  6.04176616,  6.20729686,\n",
       "         6.37282757,  6.53835827,  6.70388897,  6.86941967,  7.03495038,\n",
       "         7.20048108,  7.36601178,  7.53154248,  7.69707319,  7.86260389,\n",
       "         8.02813459,  8.1936653 ,  8.359196  ,  8.5247267 ,  8.6902574 ,\n",
       "         8.85578811,  9.02131881,  9.18684951,  9.35238021,  9.51791092,\n",
       "         9.68344162,  9.84897232, 10.01450302, 10.18003373, 10.34556443]),\n",
       " 0.16553070265306122)"
      ]
     },
     "execution_count": 15,
     "metadata": {},
     "output_type": "execute_result"
    }
   ],
   "source": [
    "#restep is the stepsize seperating from samples\n",
    "np.linspace(2.23456,10.34556443,num=50,retstep=True)"
   ]
  },
  {
   "cell_type": "code",
   "execution_count": 24,
   "metadata": {},
   "outputs": [
    {
     "data": {
      "text/plain": [
       "array([ 100.        ,  123.28467394,  151.9911083 ,  187.38174229,\n",
       "        231.01297001,  284.80358684,  351.11917342,  432.87612811,\n",
       "        533.66992312,  657.93322466,  811.13083079, 1000.        ])"
      ]
     },
     "execution_count": 24,
     "metadata": {},
     "output_type": "execute_result"
    }
   ],
   "source": [
    "np.logspace(2.0,3.0,num=12,endpoint=True)"
   ]
  },
  {
   "cell_type": "markdown",
   "metadata": {},
   "source": [
    "Construct diagonal matrix"
   ]
  },
  {
   "cell_type": "code",
   "execution_count": 34,
   "metadata": {},
   "outputs": [],
   "source": [
    "x = np.arange(30).reshape(((6,5)))"
   ]
  },
  {
   "cell_type": "code",
   "execution_count": 35,
   "metadata": {},
   "outputs": [
    {
     "data": {
      "text/plain": [
       "array([[ 0,  1,  2,  3,  4],\n",
       "       [ 5,  6,  7,  8,  9],\n",
       "       [10, 11, 12, 13, 14],\n",
       "       [15, 16, 17, 18, 19],\n",
       "       [20, 21, 22, 23, 24],\n",
       "       [25, 26, 27, 28, 29]])"
      ]
     },
     "execution_count": 35,
     "metadata": {},
     "output_type": "execute_result"
    }
   ],
   "source": [
    "x"
   ]
  },
  {
   "cell_type": "code",
   "execution_count": 36,
   "metadata": {},
   "outputs": [
    {
     "data": {
      "text/plain": [
       "array([ 0,  6, 12, 18, 24])"
      ]
     },
     "execution_count": 36,
     "metadata": {},
     "output_type": "execute_result"
    }
   ],
   "source": [
    "np.diag(x)"
   ]
  },
  {
   "cell_type": "markdown",
   "metadata": {},
   "source": [
    "# Random number generation"
   ]
  },
  {
   "cell_type": "code",
   "execution_count": 43,
   "metadata": {},
   "outputs": [
    {
     "name": "stdout",
     "output_type": "stream",
     "text": [
      "Random number generation(from uniform distribution)\n",
      "----------------------------------------------------------\n",
      "[[0.38889575 0.48708691 0.43817733 0.42988505 0.44512435]\n",
      " [0.86326173 0.60586478 0.58803157 0.61075376 0.11295438]\n",
      " [0.02487708 0.18737795 0.98192548 0.66844432 0.19442528]\n",
      " [0.5222933  0.43367833 0.16452157 0.35883842 0.63343092]\n",
      " [0.08266666 0.94928937 0.3718349  0.89980623 0.24485161]\n",
      " [0.23988654 0.03012711 0.19955671 0.25804227 0.38826474]\n",
      " [0.92005776 0.20890924 0.19035265 0.02033974 0.68319822]\n",
      " [0.96971258 0.22050316 0.73895744 0.41951086 0.29984707]\n",
      " [0.15806925 0.48235551 0.39883565 0.93214463 0.98873104]\n",
      " [0.32270178 0.61393986 0.18748711 0.64168554 0.49633046]]\n"
     ]
    }
   ],
   "source": [
    "print(\"Random number generation(from uniform distribution)\\n----------------------------------------------------------\")\n",
    "print(np.random.rand(10,5))"
   ]
  },
  {
   "cell_type": "code",
   "execution_count": 55,
   "metadata": {},
   "outputs": [
    {
     "name": "stdout",
     "output_type": "stream",
     "text": [
      "numbers from normal distribution with zero mean and standard deviation 1 i.e standard normal\n",
      "[[ 0.59935892 -0.0908554 ]\n",
      " [ 0.38130797  0.58599097]\n",
      " [-1.03676558 -0.44628149]\n",
      " [ 0.06656874 -0.95430519]\n",
      " [ 1.0728869   0.56880287]\n",
      " [ 0.69283088  0.45997668]\n",
      " [ 0.06339641 -0.64122345]\n",
      " [ 0.54480329  0.91764341]\n",
      " [ 0.12195781  0.38659398]\n",
      " [ 0.2741385   0.64130157]]\n"
     ]
    }
   ],
   "source": [
    "print(\"numbers from normal distribution with zero mean and standard deviation 1 i.e standard normal\")\n",
    "print(np.random.randn(10,2))"
   ]
  },
  {
   "cell_type": "code",
   "execution_count": 47,
   "metadata": {},
   "outputs": [
    {
     "name": "stdout",
     "output_type": "stream",
     "text": [
      "random integer vector: [3 4 1 4 1 4 5 3 4 2]\n"
     ]
    }
   ],
   "source": [
    "print(\"random integer vector:\",\n",
    "      np.random.randint(1,6,10))"
   ]
  },
  {
   "cell_type": "code",
   "execution_count": 54,
   "metadata": {},
   "outputs": [
    {
     "name": "stdout",
     "output_type": "stream",
     "text": [
      "\n",
      "Random integer matrix\n",
      "[[23 27 20 26]\n",
      " [27  4 11 29]\n",
      " [17  8 10 14]\n",
      " [ 7 10 23 27]]\n"
     ]
    }
   ],
   "source": [
    "print(\"\\nRandom integer matrix\")\n",
    "print(np.random.randint(1,30,(4,4)))"
   ]
  },
  {
   "cell_type": "code",
   "execution_count": 56,
   "metadata": {},
   "outputs": [
    {
     "name": "stdout",
     "output_type": "stream",
     "text": [
      "\n",
      "20 samples drawn from a dice throw: [1 1 1 2 6 5 3 6 5 5 4 3 5 6 2 6 2 2 3 1]\n"
     ]
    }
   ],
   "source": [
    "print(\"\\n20 samples drawn from a dice throw:\",\n",
    "     np.random.randint(1,7,20))"
   ]
  },
  {
   "cell_type": "markdown",
   "metadata": {},
   "source": [
    "# Reshapping"
   ]
  },
  {
   "cell_type": "code",
   "execution_count": 15,
   "metadata": {},
   "outputs": [],
   "source": [
    "import numpy as np\n"
   ]
  },
  {
   "cell_type": "code",
   "execution_count": 16,
   "metadata": {},
   "outputs": [],
   "source": [
    "from numpy.random import randint as ri\n"
   ]
  },
  {
   "cell_type": "code",
   "execution_count": 17,
   "metadata": {},
   "outputs": [],
   "source": [
    "a = ri(1,99,30)\n",
    "b = a.reshape(2,3,5)\n",
    "c = a.reshape(5,6)\n"
   ]
  },
  {
   "cell_type": "code",
   "execution_count": 18,
   "metadata": {},
   "outputs": [
    {
     "data": {
      "text/plain": [
       "array([87, 84, 73, 40, 34, 62, 36, 11, 85, 31, 58, 15, 11, 31, 69, 15, 65,\n",
       "       81, 36, 17, 38, 93, 70, 79, 74, 24, 73, 56, 33,  1])"
      ]
     },
     "execution_count": 18,
     "metadata": {},
     "output_type": "execute_result"
    }
   ],
   "source": [
    "a"
   ]
  },
  {
   "cell_type": "code",
   "execution_count": 19,
   "metadata": {},
   "outputs": [
    {
     "data": {
      "text/plain": [
       "array([[[87, 84, 73, 40, 34],\n",
       "        [62, 36, 11, 85, 31],\n",
       "        [58, 15, 11, 31, 69]],\n",
       "\n",
       "       [[15, 65, 81, 36, 17],\n",
       "        [38, 93, 70, 79, 74],\n",
       "        [24, 73, 56, 33,  1]]])"
      ]
     },
     "execution_count": 19,
     "metadata": {},
     "output_type": "execute_result"
    }
   ],
   "source": [
    "\n",
    "b"
   ]
  },
  {
   "cell_type": "code",
   "execution_count": 20,
   "metadata": {},
   "outputs": [
    {
     "data": {
      "text/plain": [
       "array([[87, 84, 73, 40, 34, 62],\n",
       "       [36, 11, 85, 31, 58, 15],\n",
       "       [11, 31, 69, 15, 65, 81],\n",
       "       [36, 17, 38, 93, 70, 79],\n",
       "       [74, 24, 73, 56, 33,  1]])"
      ]
     },
     "execution_count": 20,
     "metadata": {},
     "output_type": "execute_result"
    }
   ],
   "source": [
    "c"
   ]
  },
  {
   "cell_type": "code",
   "execution_count": 21,
   "metadata": {},
   "outputs": [
    {
     "name": "stdout",
     "output_type": "stream",
     "text": [
      "shape of a: (30,)\n",
      "shape of b: (2, 3, 5)\n",
      "shape of c: (5, 6)\n"
     ]
    }
   ],
   "source": [
    "print(\"shape of a:\",a.shape)\n",
    "print(\"shape of b:\",b.shape)\n",
    "print(\"shape of c:\",c.shape)"
   ]
  },
  {
   "cell_type": "code",
   "execution_count": 22,
   "metadata": {},
   "outputs": [
    {
     "name": "stdout",
     "output_type": "stream",
     "text": [
      "\n",
      "a looks like\n",
      " -------------------- \n",
      " [87 84 73 40 34 62 36 11 85 31 58 15 11 31 69 15 65 81 36 17 38 93 70 79\n",
      " 74 24 73 56 33  1] \n",
      " --------------------\n",
      "\n",
      "b looks like\n",
      " -------------------- \n",
      " [[[87 84 73 40 34]\n",
      "  [62 36 11 85 31]\n",
      "  [58 15 11 31 69]]\n",
      "\n",
      " [[15 65 81 36 17]\n",
      "  [38 93 70 79 74]\n",
      "  [24 73 56 33  1]]] \n",
      " --------------------\n",
      "\n",
      "c looks like\n",
      " -------------------- \n",
      " [[87 84 73 40 34 62]\n",
      " [36 11 85 31 58 15]\n",
      " [11 31 69 15 65 81]\n",
      " [36 17 38 93 70 79]\n",
      " [74 24 73 56 33  1]] \n",
      " --------------------\n"
     ]
    }
   ],
   "source": [
    "print(\"\\na looks like\\n\",'-'*20,\"\\n\",a,\"\\n\",'-'*20)\n",
    "print(\"\\nb looks like\\n\",'-'*20,\"\\n\",b,\"\\n\",'-'*20)\n",
    "print(\"\\nc looks like\\n\",'-'*20,\"\\n\",c,\"\\n\",'-'*20)"
   ]
  },
  {
   "cell_type": "code",
   "execution_count": 27,
   "metadata": {},
   "outputs": [
    {
     "name": "stdout",
     "output_type": "stream",
     "text": [
      "\n",
      "vector of random integers\n",
      " -------------------------------------------------- \n",
      " [95 83  4 43 84 66 60 41 31 17]\n",
      "\n",
      "Here is the sorted vector\n",
      " -------------------------------------------------- \n",
      " [ 4 17 31 41 43 60 66 83 84 95]\n"
     ]
    }
   ],
   "source": [
    "a=ri(1,100,10)#vector of random integers\n",
    "print(\"\\nvector of random integers\\n\",'-'*50,\"\\n\",a)\n",
    "print(\"\\nHere is the sorted vector\\n\",'-'*50,\"\\n\",np.sort(a,kind = 'quicksort'))"
   ]
  },
  {
   "cell_type": "code",
   "execution_count": 28,
   "metadata": {},
   "outputs": [
    {
     "name": "stdout",
     "output_type": "stream",
     "text": [
      "\n",
      "5x5 matrix of random integer\n",
      " -------------------------------------------------- \n",
      " [[84 63 69 90 55]\n",
      " [75 40  7 20 46]\n",
      " [27 73 59 53 26]\n",
      " [76 77 10 44 21]\n",
      " [16 51 87  6 24]]\n",
      "\n",
      "Here is the sorted matrix along each row\n",
      " -------------------------------------------------- \n",
      " [[55 63 69 84 90]\n",
      " [ 7 20 40 46 75]\n",
      " [26 27 53 59 73]\n",
      " [10 21 44 76 77]\n",
      " [ 6 16 24 51 87]]\n",
      "\n",
      "Here is the sorted matrix along each column\n",
      " \n",
      " [[16 40  7  6 21]\n",
      " [27 51 10 20 24]\n",
      " [75 63 59 44 26]\n",
      " [76 73 69 53 46]\n",
      " [84 77 87 90 55]]\n"
     ]
    }
   ],
   "source": [
    "M=ri(1,100,25).reshape(5,5)#matrix of random integers\n",
    "print(\"\\n5x5 matrix of random integer\\n\",'-'*50,\"\\n\",M)\n",
    "print(\"\\nHere is the sorted matrix along each row\\n\",'-'*50,\"\\n\",np.sort(M))\n",
    "print(\"\\nHere is the sorted matrix along each column\\n\",\"\\n\",np.sort(M,axis=0,kind = 'mergesort'))"
   ]
  },
  {
   "cell_type": "code",
   "execution_count": 29,
   "metadata": {},
   "outputs": [
    {
     "data": {
      "text/plain": [
       "array([[84, 63, 69, 90, 55],\n",
       "       [75, 40,  7, 20, 46],\n",
       "       [27, 73, 59, 53, 26],\n",
       "       [76, 77, 10, 44, 21],\n",
       "       [16, 51, 87,  6, 24]])"
      ]
     },
     "execution_count": 29,
     "metadata": {},
     "output_type": "execute_result"
    }
   ],
   "source": [
    "M"
   ]
  },
  {
   "cell_type": "code",
   "execution_count": 30,
   "metadata": {},
   "outputs": [
    {
     "name": "stdout",
     "output_type": "stream",
     "text": [
      "\n",
      "Here is the sorted matrix along each column\n",
      " -------------------------------------------------- \n",
      " [[16 40  7  6 21]\n",
      " [27 51 10 20 24]\n",
      " [75 63 59 44 26]\n",
      " [76 73 69 53 46]\n",
      " [84 77 87 90 55]]\n"
     ]
    }
   ],
   "source": [
    "print(\"\\nHere is the sorted matrix along each column\\n\",'-'*50,\"\\n\",np.sort(M,axis=0,kind = 'mergesort'))"
   ]
  },
  {
   "cell_type": "code",
   "execution_count": 31,
   "metadata": {},
   "outputs": [
    {
     "data": {
      "text/plain": [
       "array([95, 83,  4, 43, 84, 66, 60, 41, 31, 17])"
      ]
     },
     "execution_count": 31,
     "metadata": {},
     "output_type": "execute_result"
    }
   ],
   "source": [
    "a"
   ]
  },
  {
   "cell_type": "code",
   "execution_count": 32,
   "metadata": {},
   "outputs": [
    {
     "data": {
      "text/plain": [
       "array([[[87, 84, 73, 40, 34],\n",
       "        [62, 36, 11, 85, 31],\n",
       "        [58, 15, 11, 31, 69]],\n",
       "\n",
       "       [[15, 65, 81, 36, 17],\n",
       "        [38, 93, 70, 79, 74],\n",
       "        [24, 73, 56, 33,  1]]])"
      ]
     },
     "execution_count": 32,
     "metadata": {},
     "output_type": "execute_result"
    }
   ],
   "source": [
    "b"
   ]
  },
  {
   "cell_type": "code",
   "execution_count": 35,
   "metadata": {},
   "outputs": [
    {
     "name": "stdout",
     "output_type": "stream",
     "text": [
      "min of a: 4\n"
     ]
    }
   ],
   "source": [
    "print(\"min of a:\",a.min())"
   ]
  },
  {
   "cell_type": "code",
   "execution_count": 36,
   "metadata": {},
   "outputs": [
    {
     "name": "stdout",
     "output_type": "stream",
     "text": [
      "max of b: 93\n"
     ]
    }
   ],
   "source": [
    "print(\"max of b:\",b.max())"
   ]
  },
  {
   "cell_type": "markdown",
   "metadata": {},
   "source": [
    "# Indexing and slicing"
   ]
  },
  {
   "cell_type": "code",
   "execution_count": 46,
   "metadata": {},
   "outputs": [
    {
     "name": "stdout",
     "output_type": "stream",
     "text": [
      "Array [ 1  2  3  4  5  6  7  8  9 10]\n"
     ]
    }
   ],
   "source": [
    "arr=np.arange(1,11)\n",
    "print(\"Array\",arr)"
   ]
  },
  {
   "cell_type": "code",
   "execution_count": 47,
   "metadata": {},
   "outputs": [
    {
     "name": "stdout",
     "output_type": "stream",
     "text": [
      "element at 7th index is: 8\n"
     ]
    }
   ],
   "source": [
    "print(\"element at 7th index is:\",arr[7])"
   ]
  },
  {
   "cell_type": "code",
   "execution_count": 48,
   "metadata": {},
   "outputs": [
    {
     "name": "stdout",
     "output_type": "stream",
     "text": [
      "element from 3rd to 5th index are: [4 5 6]\n"
     ]
    }
   ],
   "source": [
    "print(\"element from 3rd to 5th index are:\",arr[3:6])\n"
   ]
  },
  {
   "cell_type": "code",
   "execution_count": 49,
   "metadata": {},
   "outputs": [
    {
     "name": "stdout",
     "output_type": "stream",
     "text": [
      "Element up to 4th index are: [3 4 5]\n"
     ]
    }
   ],
   "source": [
    "print(\"Element up to 4th index are:\",arr[2:5])\n",
    "abc=arr[4:]"
   ]
  },
  {
   "cell_type": "code",
   "execution_count": 50,
   "metadata": {},
   "outputs": [
    {
     "data": {
      "text/plain": [
       "array([ 5,  6,  7,  8,  9, 10])"
      ]
     },
     "execution_count": 50,
     "metadata": {},
     "output_type": "execute_result"
    }
   ],
   "source": [
    "abc"
   ]
  },
  {
   "cell_type": "code",
   "execution_count": 51,
   "metadata": {},
   "outputs": [
    {
     "data": {
      "text/plain": [
       "array([ 1,  2,  3,  4,  5,  6,  7,  8,  9, 10])"
      ]
     },
     "execution_count": 51,
     "metadata": {},
     "output_type": "execute_result"
    }
   ],
   "source": [
    "arr"
   ]
  },
  {
   "cell_type": "code",
   "execution_count": 52,
   "metadata": {},
   "outputs": [
    {
     "name": "stdout",
     "output_type": "stream",
     "text": [
      "Elements from last backward are: [10  8  6  4  2]\n"
     ]
    }
   ],
   "source": [
    "print(\"Elements from last backward are:\",arr[-1::-2])"
   ]
  },
  {
   "cell_type": "code",
   "execution_count": 55,
   "metadata": {},
   "outputs": [
    {
     "name": "stdout",
     "output_type": "stream",
     "text": [
      "7 element from last backward are: [10  9  8  7  6  5  4]\n"
     ]
    }
   ],
   "source": [
    "print(\"7 element from last backward are:\",arr[-1:-8:-1])"
   ]
  },
  {
   "cell_type": "code",
   "execution_count": 57,
   "metadata": {},
   "outputs": [
    {
     "name": "stdout",
     "output_type": "stream",
     "text": [
      "new array: [ 1  3  5  7  9 11 13 15 17 19]\n"
     ]
    }
   ],
   "source": [
    "arr=np.arange(1,21,2)\n",
    "print(\"new array:\",arr)"
   ]
  },
  {
   "cell_type": "code",
   "execution_count": 58,
   "metadata": {},
   "outputs": [
    {
     "name": "stdout",
     "output_type": "stream",
     "text": [
      "Element at 2nd,4th and 9th index are: [ 5  9 19]\n"
     ]
    }
   ],
   "source": [
    "print(\"Element at 2nd,4th and 9th index are:\",arr[[2,4,9]])"
   ]
  },
  {
   "cell_type": "code",
   "execution_count": 62,
   "metadata": {},
   "outputs": [
    {
     "name": "stdout",
     "output_type": "stream",
     "text": [
      "[[1 2 3]\n",
      " [4 5 6]\n",
      " [7 8 9]]\n"
     ]
    }
   ],
   "source": [
    "my_mat=[[1,2,3],[4,5,6],[7,8,9]]\n",
    "mat=np.array(my_mat)\n",
    "print(mat)"
   ]
  },
  {
   "cell_type": "code",
   "execution_count": 63,
   "metadata": {},
   "outputs": [
    {
     "data": {
      "text/plain": [
       "array([[1, 2, 3],\n",
       "       [4, 5, 6],\n",
       "       [7, 8, 9]])"
      ]
     },
     "execution_count": 63,
     "metadata": {},
     "output_type": "execute_result"
    }
   ],
   "source": [
    "mat"
   ]
  },
  {
   "cell_type": "code",
   "execution_count": 66,
   "metadata": {},
   "outputs": [
    {
     "name": "stdout",
     "output_type": "stream",
     "text": [
      "\n",
      " double bracket indexing\n",
      "--------------------------------\n",
      "\n",
      "Element in row index 1 and column index 2: 8\n"
     ]
    }
   ],
   "source": [
    "print(\"\\n double bracket indexing\\n--------------------------------\\n\")\n",
    "print(\"Element in row index 1 and column index 2:\",mat[2][1])"
   ]
  },
  {
   "cell_type": "code",
   "execution_count": 67,
   "metadata": {},
   "outputs": [
    {
     "data": {
      "text/plain": [
       "array([[1, 2, 3],\n",
       "       [4, 5, 6],\n",
       "       [7, 8, 9]])"
      ]
     },
     "execution_count": 67,
     "metadata": {},
     "output_type": "execute_result"
    }
   ],
   "source": [
    "mat"
   ]
  },
  {
   "cell_type": "code",
   "execution_count": 69,
   "metadata": {},
   "outputs": [
    {
     "name": "stdout",
     "output_type": "stream",
     "text": [
      "Entire row at index2: [7 8 9]\n",
      "Entire column at index3: [[2 3]\n",
      " [5 6]\n",
      " [8 9]]\n"
     ]
    }
   ],
   "source": [
    "print(\"Entire row at index2:\",mat[2])\n",
    "print(\"Entire column at index3:\",mat[:,1:])"
   ]
  },
  {
   "cell_type": "code",
   "execution_count": 78,
   "metadata": {},
   "outputs": [
    {
     "name": "stdout",
     "output_type": "stream",
     "text": [
      "\n",
      " subsetting sub matrics\n",
      "---------------------------------\n",
      "Matrix with row indexes 1 and 2 and column indexes 3 and 4\n",
      " [[5]]\n"
     ]
    }
   ],
   "source": [
    "print(\"\\n subsetting sub matrics\\n---------------------------------\")\n",
    "print(\"Matrix with row indexes 1 and 2 and column indexes 3 and 4\\n\",mat[1:2,1:2])"
   ]
  },
  {
   "cell_type": "code",
   "execution_count": 73,
   "metadata": {},
   "outputs": [
    {
     "data": {
      "text/plain": [
       "array([[1, 2, 3],\n",
       "       [4, 5, 6],\n",
       "       [7, 8, 9]])"
      ]
     },
     "execution_count": 73,
     "metadata": {},
     "output_type": "execute_result"
    }
   ],
   "source": [
    "mat"
   ]
  },
  {
   "cell_type": "code",
   "execution_count": 74,
   "metadata": {},
   "outputs": [
    {
     "name": "stdout",
     "output_type": "stream",
     "text": [
      "[[2 3]\n",
      " [5 6]]\n"
     ]
    }
   ],
   "source": [
    "print(mat[0:2,[1,2]])"
   ]
  },
  {
   "cell_type": "code",
   "execution_count": null,
   "metadata": {},
   "outputs": [],
   "source": []
  }
 ],
 "metadata": {
  "kernelspec": {
   "display_name": "Python 3",
   "language": "python",
   "name": "python3"
  },
  "language_info": {
   "codemirror_mode": {
    "name": "ipython",
    "version": 3
   },
   "file_extension": ".py",
   "mimetype": "text/x-python",
   "name": "python",
   "nbconvert_exporter": "python",
   "pygments_lexer": "ipython3",
   "version": "3.8.5"
  }
 },
 "nbformat": 4,
 "nbformat_minor": 4
}
